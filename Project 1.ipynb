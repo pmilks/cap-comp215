{
  "nbformat": 4,
  "nbformat_minor": 0,
  "metadata": {
    "colab": {
      "provenance": [],
      "authorship_tag": "ABX9TyMDys6R4WBQ4arMiJM5+HpP",
      "include_colab_link": true
    },
    "kernelspec": {
      "name": "python3",
      "display_name": "Python 3"
    },
    "language_info": {
      "name": "python"
    }
  },
  "cells": [
    {
      "cell_type": "markdown",
      "metadata": {
        "id": "view-in-github",
        "colab_type": "text"
      },
      "source": [
        "<a href=\"https://colab.research.google.com/github/pmilks/cap-comp215/blob/main/Project%201.ipynb\" target=\"_parent\"><img src=\"https://colab.research.google.com/assets/colab-badge.svg\" alt=\"Open In Colab\"/></a>"
      ]
    },
    {
      "cell_type": "code",
      "source": [
        "import matplotlib.pyplot as plt\n",
        "import networkx as nx\n",
        "import json, requests\n",
        "from math import ceil\n",
        "from google.colab import output\n",
        "\n",
        "def MergeDic(dic1,dic2):\n",
        "  new_dic = {}\n",
        "  for k,v in dic1.items():\n",
        "    new_dic[k] = v\n",
        "  for k,v in dic2.items():\n",
        "    new_dic[k] = v\n",
        "  return new_dic\n",
        "\n",
        "class Flight:\n",
        "  def __init__(self, f_number, airline, departure, arrival, f_date):\n",
        "      self.f_number = f_number\n",
        "      self.airline = airline\n",
        "      self.departure = departure\n",
        "      self.arrival = arrival\n",
        "      self.f_date = f_date\n",
        "\n",
        "  def __str__(self):\n",
        "      return f\"Flight {self.f_number} from {self.departure} to {self.arrival} via {self.airline} airline on {self.f_date}.\"\n",
        "   \n",
        "  @classmethod\n",
        "  def NewFlight(cls, flight):\n",
        "      return Flight(flight['flight']['icao'],\n",
        "                    flight['airline']['icao'],\n",
        "                    flight['departure']['icao'],\n",
        "                    flight['arrival']['icao'],\n",
        "                    flight['flight_date'])\n",
        "#Incoming flights/country\n",
        "def IncomingCount(arrivals):\n",
        "  countries = {}\n",
        "  for airport in list(arrivals.keys()):\n",
        "    if airport_codes[airport][3] in countries:\n",
        "      countries[airport_codes[airport][3]] += 1\n",
        "    else:\n",
        "      countries[airport_codes[airport][3]] = 1\n",
        "  return countries\n",
        "\n",
        "#Departing flights/country\n",
        "def OutgoingCount(departures):\n",
        "  countries = {}\n",
        "  #skip coordinates from grid\n",
        "  for airport in list(departures.keys())[4:]:\n",
        "    if airport_codes[airport][3] in countries:\n",
        "      countries[airport_codes[airport][3]] += 1\n",
        "    else:\n",
        "      countries[airport_codes[airport][3]] = 1\n",
        "  return countries\n",
        "\n",
        "#Airline Count\n",
        "def AirlineCount(all_flights):\n",
        "  all_airlines = [flight.airline for flight in all_flights]\n",
        "  airlines = {}\n",
        "  for airline in all_airlines:\n",
        "    if airline in airlines:\n",
        "      airlines[airline] += 1\n",
        "    else:\n",
        "      airlines[airline] = 1\n",
        "  return airlines"
      ],
      "metadata": {
        "id": "AxSPDANOWGdR"
      },
      "execution_count": 1,
      "outputs": []
    },
    {
      "cell_type": "code",
      "execution_count": 10,
      "metadata": {
        "colab": {
          "base_uri": "https://localhost:8080/",
          "height": 406
        },
        "id": "85Uw3Rz3foqM",
        "outputId": "7777d1a2-863a-45ca-b33c-2d66f38c2426"
      },
      "outputs": [
        {
          "name": "stdout",
          "output_type": "stream",
          "text": [
            "Choose the number of flights to display (10-100): 25\n",
            "0 flights could not be processed.\n",
            "Would you like a global or centralized view of your flights?\n",
            "g for global, c for centralized: c\n"
          ]
        },
        {
          "output_type": "execute_result",
          "data": {
            "text/plain": [
              "<matplotlib.collections.PathCollection at 0x7fa2e456e8b0>"
            ]
          },
          "metadata": {},
          "execution_count": 10
        },
        {
          "output_type": "display_data",
          "data": {
            "text/plain": [
              "<Figure size 432x288 with 1 Axes>"
            ],
            "image/png": "[encoded data removed]"
          },
          "metadata": {}
        }
      ],
      "source": [
        "limit = input(\"Choose the number of flights to display (10-100): \")\n",
        "\n",
        "# fl = open('10 flights.txt','r')\n",
        "# flights = json.loads(fl.read())['data']\n",
        "# fl.close()\n",
        "params = {\n",
        "  'access_key': '6fecf1f08ce3c5470b929c45e9232bfa',\n",
        "  'limit': limit\n",
        "}\n",
        "response = requests.get('http://api.aviationstack.com/v1/flights', params)\n",
        "flights = json.loads(response.text)['data']\n",
        "ar = open('airport codes.txt','r')\n",
        "airport_codes = json.loads(ar.read())['icaos']\n",
        "ar.close()\n",
        "\n",
        "all_flights = [Flight.NewFlight(flight) for flight in flights if flight['departure']['icao'] in airport_codes and flight['arrival']['icao'] in airport_codes]\n",
        "if len(all_flights) != limit:\n",
        "  print(f\"{int(limit)-len(all_flights)} flights could not be processed.\")\n",
        "\n",
        "departures = {}\n",
        "if input(\"Would you like a global or centralized view of your flights?\\ng for global, c for centralized: \") == 'g':\n",
        "  departures ={'NW':(-180,90),\n",
        "                'SW':(-180,-90),\n",
        "                'NE':(180,90),\n",
        "                'SE':(180,-90)}\n",
        "\n",
        "arrivals = {}\n",
        "connections = []\n",
        "for flight in all_flights:\n",
        "  departures[flight.departure] = (int(float(airport_codes[flight.departure][6])),\n",
        "                                            int(float(airport_codes[flight.departure][5])))\n",
        "  arrivals[flight.arrival] = (int(float(airport_codes[flight.arrival][6])),\n",
        "                                            int(float(airport_codes[flight.arrival][5])))\n",
        "  connections.append((flight.departure,flight.arrival))\n",
        "\n",
        "dep_arr_pos = MergeDic(departures,arrivals)\n",
        "flight_plan = nx.Graph()\n",
        "flight_plan.add_nodes_from(list(dep_arr_pos))\n",
        "flight_plan.add_edges_from(connections)\n",
        "nx.draw(flight_plan,dep_arr_pos,with_labels=True,node_size=0,font_size=8,font_weight='bold')\n",
        "nx.draw_networkx_nodes(flight_plan, departures,nodelist=departures,node_color='green', node_size=15)\n",
        "nx.draw_networkx_nodes(flight_plan, arrivals,nodelist=arrivals,node_color='red', node_size=15)"
      ]
    },
    {
      "cell_type": "code",
      "source": [
        "page = 1\n",
        "max_selec = 10\n",
        "max_page = ceil(len(all_flights)/10)\n",
        "while(True):\n",
        "  print(f\"Here is a selection of flights [{page*10-9}-{max_selec} of {len(all_flights)}]\")\n",
        "  for i in range(page*10-10,max_selec):\n",
        "    print(all_flights[i])\n",
        "  input(\"Enter any key to go to next page.\")\n",
        "  if page == max_page-1:\n",
        "      page += 1\n",
        "      max_selec = len(all_flights)\n",
        "  elif page == max_page:\n",
        "      page = 1\n",
        "      max_selec = 10\n",
        "  else:\n",
        "      page += 1\n",
        "      max_selec += 10\n",
        "  output.clear()"
      ],
      "metadata": {
        "colab": {
          "base_uri": "https://localhost:8080/",
          "height": 571
        },
        "id": "QUANuWaiYwnW",
        "outputId": "84823b0f-5c03-467d-d4be-97fd93ce1f55"
      },
      "execution_count": 11,
      "outputs": [
        {
          "output_type": "stream",
          "name": "stdout",
          "text": [
            "Here is a selection of flights [1-10 of 25]\n",
            "Flight SWG238 from CYQM to MUCC via SWG airline on 2023-03-04.\n",
            "Flight GLO1202 from SBSP to SBPA via GLO airline on 2023-03-04.\n",
            "Flight LAN3156 from SBSP to SBSV via LAN airline on 2023-03-04.\n",
            "Flight AZU4200 from SBSP to SBRF via AZU airline on 2023-03-04.\n",
            "Flight GLO1562 from SBSP to SBFZ via GLO airline on 2023-03-04.\n",
            "Flight LAN3042 from SBSP to SBFL via LAN airline on 2023-03-04.\n",
            "Flight LAN3112 from SBSP to SBGO via LAN airline on 2023-03-04.\n",
            "Flight LAN3900 from SBSP to SBRJ via LAN airline on 2023-03-04.\n",
            "Flight LAN3166 from SBSP to SBCY via LAN airline on 2023-03-04.\n",
            "Flight AZU2606 from SBSP to SBRJ via AZU airline on 2023-03-04.\n"
          ]
        },
        {
          "output_type": "error",
          "ename": "KeyboardInterrupt",
          "evalue": "ignored",
          "traceback": [
            "\u001b[0;31m---------------------------------------------------------------------------\u001b[0m",
            "\u001b[0;31mKeyboardInterrupt\u001b[0m                         Traceback (most recent call last)",
            "\u001b[0;32m<ipython-input-11-437e1812e93d>\u001b[0m in \u001b[0;36m<module>\u001b[0;34m\u001b[0m\n\u001b[1;32m      6\u001b[0m   \u001b[0;32mfor\u001b[0m \u001b[0mi\u001b[0m \u001b[0;32min\u001b[0m \u001b[0mrange\u001b[0m\u001b[0;34m(\u001b[0m\u001b[0mpage\u001b[0m\u001b[0;34m*\u001b[0m\u001b[0;36m10\u001b[0m\u001b[0;34m-\u001b[0m\u001b[0;36m10\u001b[0m\u001b[0;34m,\u001b[0m\u001b[0mmax_selec\u001b[0m\u001b[0;34m)\u001b[0m\u001b[0;34m:\u001b[0m\u001b[0;34m\u001b[0m\u001b[0;34m\u001b[0m\u001b[0m\n\u001b[1;32m      7\u001b[0m     \u001b[0mprint\u001b[0m\u001b[0;34m(\u001b[0m\u001b[0mall_flights\u001b[0m\u001b[0;34m[\u001b[0m\u001b[0mi\u001b[0m\u001b[0;34m]\u001b[0m\u001b[0;34m)\u001b[0m\u001b[0;34m\u001b[0m\u001b[0;34m\u001b[0m\u001b[0m\n\u001b[0;32m----> 8\u001b[0;31m   \u001b[0minput\u001b[0m\u001b[0;34m(\u001b[0m\u001b[0;34m\"Enter any key to go to next page.\"\u001b[0m\u001b[0;34m)\u001b[0m\u001b[0;34m\u001b[0m\u001b[0;34m\u001b[0m\u001b[0m\n\u001b[0m\u001b[1;32m      9\u001b[0m   \u001b[0;32mif\u001b[0m \u001b[0mpage\u001b[0m \u001b[0;34m==\u001b[0m \u001b[0mmax_page\u001b[0m\u001b[0;34m-\u001b[0m\u001b[0;36m1\u001b[0m\u001b[0;34m:\u001b[0m\u001b[0;34m\u001b[0m\u001b[0;34m\u001b[0m\u001b[0m\n\u001b[1;32m     10\u001b[0m       \u001b[0mpage\u001b[0m \u001b[0;34m+=\u001b[0m \u001b[0;36m1\u001b[0m\u001b[0;34m\u001b[0m\u001b[0;34m\u001b[0m\u001b[0m\n",
            "\u001b[0;32m/usr/local/lib/python3.8/dist-packages/ipykernel/kernelbase.py\u001b[0m in \u001b[0;36mraw_input\u001b[0;34m(self, prompt)\u001b[0m\n\u001b[1;32m    858\u001b[0m                 \u001b[0;34m\"raw_input was called, but this frontend does not support input requests.\"\u001b[0m\u001b[0;34m\u001b[0m\u001b[0;34m\u001b[0m\u001b[0m\n\u001b[1;32m    859\u001b[0m             )\n\u001b[0;32m--> 860\u001b[0;31m         return self._input_request(str(prompt),\n\u001b[0m\u001b[1;32m    861\u001b[0m             \u001b[0mself\u001b[0m\u001b[0;34m.\u001b[0m\u001b[0m_parent_ident\u001b[0m\u001b[0;34m,\u001b[0m\u001b[0;34m\u001b[0m\u001b[0;34m\u001b[0m\u001b[0m\n\u001b[1;32m    862\u001b[0m             \u001b[0mself\u001b[0m\u001b[0;34m.\u001b[0m\u001b[0m_parent_header\u001b[0m\u001b[0;34m,\u001b[0m\u001b[0;34m\u001b[0m\u001b[0;34m\u001b[0m\u001b[0m\n",
            "\u001b[0;32m/usr/local/lib/python3.8/dist-packages/ipykernel/kernelbase.py\u001b[0m in \u001b[0;36m_input_request\u001b[0;34m(self, prompt, ident, parent, password)\u001b[0m\n\u001b[1;32m    902\u001b[0m             \u001b[0;32mexcept\u001b[0m \u001b[0mKeyboardInterrupt\u001b[0m\u001b[0;34m:\u001b[0m\u001b[0;34m\u001b[0m\u001b[0;34m\u001b[0m\u001b[0m\n\u001b[1;32m    903\u001b[0m                 \u001b[0;31m# re-raise KeyboardInterrupt, to truncate traceback\u001b[0m\u001b[0;34m\u001b[0m\u001b[0;34m\u001b[0m\u001b[0;34m\u001b[0m\u001b[0m\n\u001b[0;32m--> 904\u001b[0;31m                 \u001b[0;32mraise\u001b[0m \u001b[0mKeyboardInterrupt\u001b[0m\u001b[0;34m(\u001b[0m\u001b[0;34m\"Interrupted by user\"\u001b[0m\u001b[0;34m)\u001b[0m \u001b[0;32mfrom\u001b[0m \u001b[0;32mNone\u001b[0m\u001b[0;34m\u001b[0m\u001b[0;34m\u001b[0m\u001b[0m\n\u001b[0m\u001b[1;32m    905\u001b[0m             \u001b[0;32mexcept\u001b[0m \u001b[0mException\u001b[0m \u001b[0;32mas\u001b[0m \u001b[0me\u001b[0m\u001b[0;34m:\u001b[0m\u001b[0;34m\u001b[0m\u001b[0;34m\u001b[0m\u001b[0m\n\u001b[1;32m    906\u001b[0m                 \u001b[0mself\u001b[0m\u001b[0;34m.\u001b[0m\u001b[0mlog\u001b[0m\u001b[0;34m.\u001b[0m\u001b[0mwarning\u001b[0m\u001b[0;34m(\u001b[0m\u001b[0;34m\"Invalid Message:\"\u001b[0m\u001b[0;34m,\u001b[0m \u001b[0mexc_info\u001b[0m\u001b[0;34m=\u001b[0m\u001b[0;32mTrue\u001b[0m\u001b[0;34m)\u001b[0m\u001b[0;34m\u001b[0m\u001b[0;34m\u001b[0m\u001b[0m\n",
            "\u001b[0;31mKeyboardInterrupt\u001b[0m: Interrupted by user"
          ]
        }
      ]
    },
    {
      "cell_type": "code",
      "source": [
        "#Fix y-tick intervals\n",
        "width = 0.35\n",
        "arr_graph = plt.bar(IncomingCount(arrivals).keys(), IncomingCount(arrivals).values(),align='edge',color='r',width=+width,label='Arrivals')\n",
        "dep_graph = plt.bar(OutgoingCount(departures).keys(), OutgoingCount(departures).values(),align='edge',color='g',width=-width,label='Departures')\n",
        "plt.xlabel('Countries')\n",
        "plt.ylabel('# of Flights')\n",
        "plt.title('Flight Frequency by Country')\n",
        "plt.legend()"
      ],
      "metadata": {
        "id": "RepdgmErI3p2",
        "colab": {
          "base_uri": "https://localhost:8080/",
          "height": 312
        },
        "outputId": "cc589d2e-d245-4122-80f4-3770060190cc"
      },
      "execution_count": 12,
      "outputs": [
        {
          "output_type": "execute_result",
          "data": {
            "text/plain": [
              "<matplotlib.legend.Legend at 0x7fa2e7731640>"
            ]
          },
          "metadata": {},
          "execution_count": 12
        },
        {
          "output_type": "display_data",
          "data": {
            "text/plain": [
              "<Figure size 432x288 with 1 Axes>"
            ],
            "image/png": "[encoded data removed]"
          },
          "metadata": {
            "needs_background": "light"
          }
        }
      ]
    },
    {
      "cell_type": "code",
      "source": [
        "airl_graph = plt.bar(AirlineCount(all_flights).keys(), AirlineCount(all_flights).values(), width, color='blue')\n",
        "plt.xlabel('Airline')\n",
        "plt.ylabel('# of Flights')\n",
        "plt.title('Flight Frequency by Airline')"
      ],
      "metadata": {
        "id": "b4YmV-MeT53t",
        "colab": {
          "base_uri": "https://localhost:8080/",
          "height": 312
        },
        "outputId": "0fb1d1e0-fba7-45d5-ee3f-2d80aa6a9151"
      },
      "execution_count": 13,
      "outputs": [
        {
          "output_type": "execute_result",
          "data": {
            "text/plain": [
              "Text(0.5, 1.0, 'Flight Frequency by Airline')"
            ]
          },
          "metadata": {},
          "execution_count": 13
        },
        {
          "output_type": "display_data",
          "data": {
            "text/plain": [
              "<Figure size 432x288 with 1 Axes>"
            ],
            "image/png": "[encoded data removed]"
          },
          "metadata": {
            "needs_background": "light"
          }
        }
      ]
    },
    {
      "cell_type": "code",
      "source": [
        "#FindICAOs\n",
        "#Define ICAO\n",
        "def SearchICAO():\n",
        "  unk_icao = input(\"Enter airport ICAO: \")\n",
        "  if len(unk_icao) == 4:\n",
        "    if unk_icao in airport_codes:\n",
        "      print(f\"{unk_icao} is {airport_codes[unk_icao][0]} in {airport_codes[unk_icao][1]}, {airport_codes[unk_icao][2]}, {airport_codes[unk_icao][3]}.\")\n",
        "    else:\n",
        "      print(\"Sorry that icao couldn't be identified.\")\n",
        "\n",
        "def SearchDeparting():\n",
        "  loc = input(\"Search for flights departing from (State/Province, Country): \")\n",
        "  valid_dep = set()\n",
        "  for connection in connections:\n",
        "    if airport_codes[connection[0]][3] == loc.split(', ')[1] and airport_codes[connection[0]][2] == loc.split(', ')[0]:\n",
        "      valid_dep.add(connection)\n",
        "  if not valid_dep:\n",
        "    print(f\"There are no flights departing from {loc}.\")\n",
        "  else:\n",
        "    for connection in valid_dep:\n",
        "      for flight in all_flights:\n",
        "        if flight.departure == connection[0] and flight.arrival == connection[1]:\n",
        "          print(f\"{flight.f_number} departs from {loc} to {flight.arrival}.\")\n",
        "\n",
        "def SearchArriving():\n",
        "  loc = input(\"Search for flights arriving to (State/Province, Country): \")\n",
        "  valid_arr = set()\n",
        "  for connection in connections:\n",
        "    if airport_codes[connection[1]][3] == loc.split(', ')[1] and airport_codes[connection[1]][2] == loc.split(', ')[0]:\n",
        "      valid_arr.add(connection)\n",
        "  if not valid_arr:\n",
        "    print(f\"There are no flights arriving to {loc}.\")\n",
        "  else:\n",
        "    for connection in valid_arr:\n",
        "      for flight in all_flights:\n",
        "        if flight.departure == connection[0] and flight.arrival == connection[1]:\n",
        "          print(f\"{flight.f_number} arrives at {loc} from {flight.departure}.\")\n",
        "\n",
        "def SearchFlightNumber():\n",
        "  unk_num = input(\"Enter a flight number: \")\n",
        "  for flight in all_flights:\n",
        "    if flight.f_number == unk_num:\n",
        "      print(flight)\n",
        "      return\n",
        "    else:\n",
        "      print(\"No matching flight number was found.\")\n",
        "\n",
        "while(True):\n",
        "  menu = int(input(\"Would you to\\n1) Search an ICAO\\n2) Search flights by departure\\n3) Seach flights by arrival\\n4) Search by flight number\\n\\nSelect 1-4: \"))\n",
        "  if menu == 1:\n",
        "    SearchICAO()\n",
        "  elif menu == 2:\n",
        "    SearchDeparting()\n",
        "  elif menu == 3:\n",
        "    SearchArriving()\n",
        "  elif menu == 4:\n",
        "    SearchFlightNumber()\n",
        "  input(\"Enter any key to search something new.\")\n",
        "  output.clear()"
      ],
      "metadata": {
        "id": "VZvfvy2xhgAt",
        "colab": {
          "base_uri": "https://localhost:8080/"
        },
        "outputId": "fb4ed14e-5310-48bc-bc3a-70d2438fde10"
      },
      "execution_count": null,
      "outputs": [
        {
          "output_type": "stream",
          "name": "stdout",
          "text": [
            "Would you to\n",
            "1) Search an ICAO\n",
            "2) Search flights by departure\n",
            "3) Seach flights by arrival\n",
            "4) Search by flight number\n",
            "\n",
            "Select 1-4: 1\n",
            "Enter airport ICAO: CYQM\n",
            "CYQM is Greater Moncton International Airport in Moncton, New Brunswick, CA.\n"
          ]
        }
      ]
    }
  ]
}