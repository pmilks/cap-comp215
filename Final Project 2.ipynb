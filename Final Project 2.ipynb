{
  "nbformat": 4,
  "nbformat_minor": 0,
  "metadata": {
    "colab": {
      "provenance": [],
      "authorship_tag": "ABX9TyM7q61jZ2L9CanXNvIjwDGr",
      "include_colab_link": true
    },
    "kernelspec": {
      "name": "python3",
      "display_name": "Python 3"
    },
    "language_info": {
      "name": "python"
    }
  },
  "cells": [
    {
      "cell_type": "markdown",
      "metadata": {
        "id": "view-in-github",
        "colab_type": "text"
      },
      "source": [
        "<a href=\"https://colab.research.google.com/github/pmilks/cap-comp215/blob/main/Final%20Project%202.ipynb\" target=\"_parent\"><img src=\"https://colab.research.google.com/assets/colab-badge.svg\" alt=\"Open In Colab\"/></a>"
      ]
    },
    {
      "cell_type": "markdown",
      "source": [
        "# COMP215 - Project 2 - Cellular Automata\n",
        "\n",
        "### Import Libraries"
      ],
      "metadata": {
        "id": "YwSgZ6cy-5Q8"
      }
    },
    {
      "cell_type": "code",
      "source": [
        "import matplotlib\n",
        "import matplotlib.pyplot as plt\n",
        "import numpy as np\n",
        "from matplotlib import animation\n",
        "from scipy.signal import correlate2d\n",
        "import time\n",
        "import timeit\n",
        "\n",
        "matplotlib.rc('animation', html='jshtml')\n",
        "\n",
        "DEFAULT_IMSHOW_OPTIONS = dict(\n",
        "    cmap='Blues',\n",
        "    interpolation='none',\n",
        "    origin='upper',\n",
        ")\n",
        "\n",
        "\n",
        "def plot_2D_array(array, axes=None, title='', **options):\n",
        "    \"\"\" Plot the 2D array as an image on the given axes  1's will be dark blue, 0's will be light blue. \"\"\"\n",
        "    axes = axes or plt.gca()  # If not axes are provided, draw on current axes\n",
        "    axes.set_title(title)\n",
        "    axes.set_xticks([], [])  # remove axes tick marks\n",
        "    axes.set_yticks([], [])\n",
        "    options = {**DEFAULT_IMSHOW_OPTIONS, **options}\n",
        "    axes.imshow(array, **options)"
      ],
      "metadata": {
        "id": "Yw8N85ZiNwKj"
      },
      "execution_count": 13,
      "outputs": []
    },
    {
      "cell_type": "markdown",
      "source": [
        "### Animation Class \n",
        "from Lab 7-10 by Joseph Fall"
      ],
      "metadata": {
        "id": "XvMT72Ub_Gjq"
      }
    },
    {
      "cell_type": "code",
      "source": [
        "class Animation2D:\n",
        "  def __init__(self, model, frames=50, steps_per_frame=1, figsize=(8,8)):\n",
        "    self.model = model\n",
        "    self.frames = frames\n",
        "    self.steps_per_frame = steps_per_frame\n",
        "    self.fig, self.ax = plt.subplots(figsize=figsize)\n",
        "\n",
        "  def animation_step(self, step):\n",
        "      if step > 0:\n",
        "          for _ in range(self.steps_per_frame):\n",
        "              self.model.step()\n",
        "      self.model.draw(self.ax, step=step * self.steps_per_frame)\n",
        "\n",
        "  def show(self):\n",
        "      anim = animation.FuncAnimation(self.fig, self.animation_step, frames=self.frames)\n",
        "      plt.close() \n",
        "      return anim\n",
        "\n",
        "  def animate(self, interval=None):\n",
        "      from IPython.display import clear_output\n",
        "      try:\n",
        "          for i in range(self.frames):\n",
        "              clear_output(wait=True)  \n",
        "              self.ax.clear() \n",
        "              plt.figure(self.fig)\n",
        "              self.animation_step(i)\n",
        "              plt.show()  \n",
        "              if interval:\n",
        "                  time.sleep(interval)\n",
        "      except KeyboardInterrupt:\n",
        "          pass"
      ],
      "metadata": {
        "id": "o3l7p6dkVEfs"
      },
      "execution_count": 14,
      "outputs": []
    },
    {
      "cell_type": "markdown",
      "source": [
        "### Langford's Ant (coordinate system)\n",
        "Animation"
      ],
      "metadata": {
        "id": "b_3bng1SjOUK"
      }
    },
    {
      "cell_type": "code",
      "source": [
        "directions = [(-1,0),(0,1),(1,0),(0,-1)]\n",
        "steps = 100\n",
        "\n",
        "class Ant:\n",
        "  def __init__(self, n, index):\n",
        "    self.n = n\n",
        "    self.state = np.ones((n,n), dtype=np.int8)\n",
        "    self.ant_row = n//2\n",
        "    self.ant_col = n//2\n",
        "    self.index = index\n",
        "\n",
        "  def start_state(self, new_state):\n",
        "    new_state = np.pad(new_state,pad_width=self.n-len(new_state))\n",
        "    self.state = new_state\n",
        "\n",
        "  def step(self):\n",
        "    if self.state[self.ant_row, self.ant_col] > 0:\n",
        "      self.index += 1\n",
        "    else:\n",
        "      self.index -= 1\n",
        "    self.state[self.ant_row, self.ant_col] *= -1\n",
        "    if self.index > 3:\n",
        "      self.index = 0\n",
        "    elif self.index < 0:\n",
        "      self.index = 3\n",
        "    self.ant_row += directions[self.index][0]\n",
        "    self.ant_col += directions[self.index][1]\n",
        "    \n",
        "  def draw(self, axes=None, step=''):\n",
        "      axes = axes or plt.axes\n",
        "      title = f'Time:{step}'\n",
        "      plot_2D_array(self.state, axes=axes, title=title,\n",
        "                    cmap='binary', vmin=0, vmax=2)\n",
        "\n",
        "a = Ant(50,1)\n",
        "anim = Animation2D(a, frames=steps,steps_per_frame=1,figsize=(6,6))\n",
        "anim.animate(interval=0.1)"
      ],
      "metadata": {
        "colab": {
          "base_uri": "https://localhost:8080/",
          "height": 521
        },
        "id": "3fjULPBg6Bh6",
        "outputId": "64c9638c-e679-438e-b2dc-b3f00bbf4542"
      },
      "execution_count": 15,
      "outputs": [
        {
          "output_type": "display_data",
          "data": {
            "text/plain": [
              "<Figure size 600x600 with 1 Axes>"
            ],
            "image/png": "[encoded data removed]"
          },
          "metadata": {}
        }
      ]
    },
    {
      "cell_type": "markdown",
      "source": [
        "### Complexity"
      ],
      "metadata": {
        "id": "pr1CNccWjJGl"
      }
    },
    {
      "cell_type": "code",
      "source": [
        "times = {}\n",
        "for i in range(100,5000,100):\n",
        "  a = Ant(10000,1)\n",
        "  times[i] = timeit.timeit(a.step,number=i)\n",
        "\n",
        "plt.plot(times.keys(),times.values()) #time complexity = O(n)"
      ],
      "metadata": {
        "colab": {
          "base_uri": "https://localhost:8080/",
          "height": 447
        },
        "id": "gkjMuzzai7RA",
        "outputId": "50c4fd57-60a8-4edc-b33e-06ec3f4fb703"
      },
      "execution_count": 16,
      "outputs": [
        {
          "output_type": "execute_result",
          "data": {
            "text/plain": [
              "[<matplotlib.lines.Line2D at 0x7f343c1759a0>]"
            ]
          },
          "metadata": {},
          "execution_count": 16
        },
        {
          "output_type": "display_data",
          "data": {
            "text/plain": [
              "<Figure size 640x480 with 1 Axes>"
            ],
            "image/png": "[encoded data removed]"
          },
          "metadata": {}
        }
      ]
    },
    {
      "cell_type": "markdown",
      "source": [
        "\n",
        "Complexity is O(n) as # of calculations increases linearly with n.\n"
      ],
      "metadata": {
        "id": "kMBC89u3i_VH"
      }
    },
    {
      "cell_type": "markdown",
      "source": [
        "### Initial Patterns and Behaviour"
      ],
      "metadata": {
        "id": "jGp5Mxo3jdi8"
      }
    },
    {
      "cell_type": "code",
      "source": [
        "'''\n",
        "Explore effect of changing initial starting orientation\n",
        "'''\n",
        "str_dir = 1\n",
        "a = Ant(10,str_dir)\n",
        "anim = Animation2D(a, frames=30,steps_per_frame=1,figsize=(6,6))\n",
        "anim.animate(interval=0.1)\n",
        "\n",
        "'''\n",
        "Explore effect of changing the starting state\n",
        "'''\n",
        "a = Ant(10,0)\n",
        "start = np.random.choice([-1,1], size=(10,10), p=[0.7,0.3])\n",
        "a.start_state(start)\n",
        "anim = Animation2D(a, frames=30,steps_per_frame=1,figsize=(6,6))\n",
        "anim.animate(interval=0.1)"
      ],
      "metadata": {
        "colab": {
          "base_uri": "https://localhost:8080/",
          "height": 521
        },
        "id": "_wfNMHevjvZB",
        "outputId": "494fc88b-822e-4c1b-ca40-41fa09198aff"
      },
      "execution_count": 27,
      "outputs": [
        {
          "output_type": "display_data",
          "data": {
            "text/plain": [
              "<Figure size 600x600 with 1 Axes>"
            ],
            "image/png": "[encoded data removed]"
          },
          "metadata": {}
        }
      ]
    },
    {
      "cell_type": "markdown",
      "source": [
        "Future development could explore changing the ruleset of Langton's Ant\n",
        "- Adding more colours\n",
        "- Adding more ants\n",
        "\n",
        "Extensions of states can produce simple, choatic or repeating patterns\n",
        "that emerge after a number of steps\n",
        "- Ex. Highways, Spirals, etc."
      ],
      "metadata": {
        "id": "AyGU8r9u9z9U"
      }
    },
    {
      "cell_type": "markdown",
      "source": [
        "### Langton's Ant (Matrix System) \n",
        "INCOMPLETE"
      ],
      "metadata": {
        "id": "a75BAaAJ_gq6"
      }
    },
    {
      "cell_type": "code",
      "source": [
        "\"\"\"\n",
        "Ant Board & Color Board\n",
        "Iterate through directions, changing order depending on color\n",
        "Directions:\n",
        "\"\"\"\n",
        "down = np.array([[0, 1, 0],\n",
        "    [0, 0, 0],\n",
        "    [0, 0, 0]])\n",
        "left = np.array([[0, 0, 0],\n",
        "        [0, 0, 1],\n",
        "        [0, 0, 0]])\n",
        "up = np.array([[0, 0, 0],\n",
        "      [0, 0, 0],\n",
        "      [0, 1, 0]])\n",
        "right = np.array([[0, 0, 0],\n",
        "      [1, 0, 0],\n",
        "      [0, 0, 0]])\n",
        "directions = [left, up, right, down]\n",
        "\n",
        "\n",
        "a = np.array([[1, 1, 1, 1, -1,],\n",
        "              [1, 1, 1, 1, 1,],\n",
        "              [1, -1, -3, 1, 1,],\n",
        "              [1, 1, 1, 1, 1,],\n",
        "              [1, 1, 1, 1, 1,]])\n",
        "kernel = np.array([[0,0,0],\n",
        "                   [0,0,1],\n",
        "                   [0,0,0]]) #left move\n",
        "\n",
        "'''           [[1, -1, 1, 1, 1,],\n",
        "              [1, 1, -2, 1, 1,],\n",
        "              [1, -1, 1, -1, 1,],\n",
        "              [1, 1, -1, 1, 1,],\n",
        "              [1, 1, 1, 1, 1,]]'''\n",
        "\n",
        "class Langton2D:\n",
        "  WHITE = 1\n",
        "  BLACK = -1\n",
        "  ANT_W_L = 2\n",
        "  ANT_W_U = 3\n",
        "  ANT_W_R = 4\n",
        "  ANT_W_D = 5\n",
        "  ANT_B_L = -2\n",
        "  ANT_B_U = -3\n",
        "  ANT_B_R = -4\n",
        "  ANT_B_D = -5\n",
        "\n",
        "  cmap = [(1,1,1), (0,0,0), (1, 0.6, 0.6), (1, 1, 0.8), (0.6, 0.8, 1), (0.8, 0.6, 1), (0.6, 0, 0), (0.8, 0.8, 0), (0, 0, 0.6), (0.3, 0, 0.6)]\n",
        "  cmap[WHITE] = (1,1,1)\n",
        "  cmap[BLACK] = (0,0,0)\n",
        "  cmap[ANT_W_L] = (1, 0.6, 0.6)\n",
        "  cmap[ANT_W_U] = (1, 1, 0.8)\n",
        "  cmap[ANT_W_R] = (0.6, 0.8, 1)\n",
        "  cmap[ANT_W_D] = (0.8, 0.6, 1)\n",
        "  cmap[ANT_B_L] = (0.6, 0, 0)\n",
        "  cmap[ANT_B_U] = (0.8, 0.8, 0)\n",
        "  cmap[ANT_B_R] = (0, 0, 0.6)\n",
        "  cmap[ANT_B_D] = (0.3, 0, 0.6)\n",
        "\n",
        "  ant_colour_map = matplotlib.colors.ListedColormap(cmap)\n",
        "\n",
        "  def __init__(self, ant, n_rows, n_cols=None):\n",
        "    n_cols = n_cols or n_rows\n",
        "    self.ant = ant\n",
        "    self.state = np.ones((n_rows, n_cols), dtype=np.int64)\n",
        "    self.state[n_rows//2,n_cols//2] = self.ant\n",
        "\n",
        "  def move(self):\n",
        "    return directions[abs(self.ant)-2]\n",
        "\n",
        "  def change_ant(self, move):\n",
        "    new = self.state*move\n",
        "    diff = self.state != new\n",
        "    if (self.state[diff][0]) < 0:\n",
        "      self.ant = abs(self.ant) * -1\n",
        "    else:\n",
        "      self.ant += 1\n",
        "      if self.ant > 5:\n",
        "        self.ant = 2\n",
        "      elif self.ant == -1:\n",
        "        self.ant = -5\n",
        "\n",
        "  def step(self):\n",
        "    kernel = self.move()\n",
        "    ant_move = correlate2d(abs(self.state),kernel,boundary='wrap',mode='same')\n",
        "\n",
        "    self.change_ant(ant_move)\n",
        "\n",
        "    w_ant = self.state > 1\n",
        "    b_ant = self.state < -1\n",
        "    self.state[w_ant] = -1\n",
        "    self.state[b_ant] = 1\n",
        "\n",
        "    self.state *= ant_move\n",
        "\n",
        "    self.state[abs(self.state)>1] = self.ant \n",
        "\n",
        "  def draw(self, axes=None, step=''):\n",
        "        axes = axes or plt.axes\n",
        "        title = f'Time:{step}'\n",
        "        plot_2D_array(self.state, axes=axes, title=title,\n",
        "                      cmap=self.ant_colour_map, vmin=0, vmax=len(self.ant_colour_map.colors))\n",
        "a = Langton2D(2,9)\n",
        "anim = Animation2D(a, frames=100, figsize=(6,6))\n",
        "anim.animate(0.1)"
      ],
      "metadata": {
        "id": "pLWmCPDcNxX7"
      },
      "execution_count": null,
      "outputs": []
    },
    {
      "cell_type": "markdown",
      "source": [
        "Can't:\n",
        "- Change ant space to black\n",
        "- Colour mapping in animation\n",
        "  - Displaying black tiles\n",
        "  - Displaying orientation on black tiles\n",
        "  - Displaying any orientation past step 6"
      ],
      "metadata": {
        "id": "z2SLLyMJ_ylz"
      }
    }
  ]
}