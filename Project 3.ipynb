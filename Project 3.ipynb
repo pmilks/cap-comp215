{
  "nbformat": 4,
  "nbformat_minor": 0,
  "metadata": {
    "colab": {
      "provenance": [],
      "authorship_tag": "ABX9TyMCLzS84MCWpYR8Ykjj9iqY",
      "include_colab_link": true
    },
    "kernelspec": {
      "name": "python3",
      "display_name": "Python 3"
    },
    "language_info": {
      "name": "python"
    }
  },
  "cells": [
    {
      "cell_type": "markdown",
      "metadata": {
        "id": "view-in-github",
        "colab_type": "text"
      },
      "source": [
        "<a href=\"https://colab.research.google.com/github/pmilks/cap-comp215/blob/main/Project%203.ipynb\" target=\"_parent\"><img src=\"https://colab.research.google.com/assets/colab-badge.svg\" alt=\"Open In Colab\"/></a>"
      ]
    },
    {
      "cell_type": "code",
      "source": [
        "import matplotlib\n",
        "import matplotlib.pyplot as plt\n",
        "import numpy as np\n",
        "from matplotlib import animation\n",
        "from scipy.signal import correlate2d"
      ],
      "metadata": {
        "id": "Yw8N85ZiNwKj"
      },
      "execution_count": 4,
      "outputs": []
    },
    {
      "cell_type": "code",
      "execution_count": 5,
      "metadata": {
        "id": "ITzZ_e6S9cfZ"
      },
      "outputs": [],
      "source": [
        "class Langton2D:\n",
        "  def __init__(self, ant, n_rows, n_cols=None):\n",
        "    n_cols = n_cols or n_rows\n",
        "    self.state = np.ones((n_rows, n_cols), dtype=np.uint8)\n",
        "    self.ant = (n_rows//2, n_cols//2)\n"
      ]
    },
    {
      "cell_type": "code",
      "source": [
        "\"\"\"\n",
        "Ant Board & Color Board\n",
        "Iterate through directions, changing order depending on color\n",
        "Directions:\n",
        "\"\"\"\n",
        "down = np.array([[0, 1, 0],\n",
        "    [0, 0, 0],\n",
        "    [0, 0, 0]])\n",
        "left = np.array([[0, 0, 0],\n",
        "        [0, 0, 1],\n",
        "        [0, 0, 0]])\n",
        "up = np.array([[0, 0, 0],\n",
        "      [0, 0, 0],\n",
        "      [0, 1, 0]])\n",
        "right = np.array([[0, 0, 0],\n",
        "      [1, 0, 0],\n",
        "      [0, 0, 0]])\n",
        "directions = [left, up, right, down]\n",
        "\n",
        "\n",
        "a = np.zeros((5,5))\n",
        "a[2,2] = 1\n",
        "kernel = np.array([[0,0,0],\n",
        "                   [0,0,1],\n",
        "                   [0,0,0],]) #left move\n",
        "\n",
        "\n",
        "print(correlate2d(a,kernel,boundary='wrap',mode='same'))\n",
        "\n",
        "\n",
        "class Langton2D:\n",
        "  def __init__(self, ant, n_rows, n_cols):\n",
        "    n_cols = n_cols or n_rows\n",
        "    self.ant = Ant(dir=1,clr=True)\n",
        "    self.state = np.ones((n_rows, n_cols), dtype=np.uint8)\n",
        "    self.state[n_rows//2,n_cols//2] = 2\n",
        "\n",
        "  def step(self):\n",
        "    correlate2d(self.state,kernel,boundary='wrap',mode='same')\n",
        "\n",
        "class Ant:\n",
        "  def __init__(self, dir, clr):\n",
        "    self.clr = clr #1/-1 True:White, False:Black\n",
        "    self.dir = dir #1-4 1:N, 2:R, 3:S, 4:L\n",
        "\n",
        "  def move(self):\n",
        "    if self.clr == True:\n",
        "      dir += 1\n",
        "      if dir > 4:\n",
        "        dir = 1\n",
        "    else:\n",
        "      dir -= 1\n",
        "      if dir < 1:\n",
        "        dir = 4\n",
        "    return directions[dir]\n",
        "    "
      ],
      "metadata": {
        "colab": {
          "base_uri": "https://localhost:8080/"
        },
        "id": "pLWmCPDcNxX7",
        "outputId": "a30d6c37-f95b-4fce-a31d-3780a743d8cf"
      },
      "execution_count": 23,
      "outputs": [
        {
          "output_type": "stream",
          "name": "stdout",
          "text": [
            "[[0. 0. 0. 0. 0.]\n",
            " [0. 0. 0. 0. 0.]\n",
            " [0. 1. 0. 0. 0.]\n",
            " [0. 0. 0. 0. 0.]\n",
            " [0. 0. 0. 0. 0.]]\n"
          ]
        }
      ]
    },
    {
      "cell_type": "markdown",
      "source": [
        "Create board\n",
        "Step method\n",
        "Ant class\n"
      ],
      "metadata": {
        "id": "fy6CMYnb-bR0"
      }
    }
  ]
}