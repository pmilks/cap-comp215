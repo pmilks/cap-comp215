{
  "nbformat": 4,
  "nbformat_minor": 0,
  "metadata": {
    "colab": {
      "name": "iMdb.ipynb",
      "provenance": []
    },
    "kernelspec": {
      "name": "python3",
      "language": "python",
      "display_name": "Python 3 (ipykernel)"
    },
    "language_info": {
      "name": "python"
    }
  },
  "cells": [
    {
      "cell_type": "markdown",
      "source": [
        "COMP 215 - LAB 2  (iMdb)\n",
        "----------------\n",
        "#### Name:\n",
        "#### Date:\n",
        "This lab exercise is mostly a review of strings, tuples, lists, dictionaries, and functions.\n",
        "We will also see how \"list comprehension\" provides a compact form for \"list accumulator\" algorithms.\n",
        "\n",
        "As usual, the first code cell simply imports all the modules we'll be using..."
      ],
      "metadata": {
        "id": "nbRPZPKZU5Pk"
      }
    },
    {
      "cell_type": "code",
      "execution_count": 1,
      "outputs": [],
      "source": [
        "import json, requests\n",
        "import matplotlib.pyplot as plt\n",
        "from pprint import pprint"
      ],
      "metadata": {
        "pycharm": {
          "name": "#%%\n"
        },
        "id": "0dNxxQV5nNNH"
      }
    },
    {
      "cell_type": "markdown",
      "source": [
        "We'll answer some questions about movies and TV shows with the IMDb database:  https://www.imdb.com/\n",
        "> using the IMDb API:  https://imdb-api.com/api\n",
        "\n",
        "You can register for your own API key, or simply use the one provided below.\n",
        "\n",
        "Here's an example query:\n",
        " *   search for TV Series with title == \"Lexx\""
      ],
      "metadata": {
        "collapsed": false,
        "pycharm": {
          "name": "#%% md\n"
        },
        "id": "r881YPsmnNNI"
      }
    },
    {
      "cell_type": "code",
      "execution_count": 2,
      "metadata": {
        "id": "JDGbYTySU3BP",
        "outputId": "a6c3e1df-39c9-4037-ceed-9d3410f4f56a",
        "colab": {
          "base_uri": "https://localhost:8080/"
        }
      },
      "outputs": [
        {
          "output_type": "stream",
          "name": "stdout",
          "text": [
            "[{'description': '1996–2002 TV Series Brian Downey, Michael McManus',\n",
            "  'id': 'tt0115243',\n",
            "  'image': 'https://m.media-amazon.com/images/M/MV5BOGFjMzQyMTYtMjQxNy00NjAyLWI2OWMtZGVhMjk4OGM3ZjE5XkEyXkFqcGdeQXVyNzMzMjU5NDY@._V1_Ratio0.6757_AL_.jpg',\n",
            "  'resultType': 'Title',\n",
            "  'title': 'Lexx'},\n",
            " {'description': '2008 Video Daniel Beaudoin, Annick Blanchard',\n",
            "  'id': 'tt1833738',\n",
            "  'image': 'https://m.media-amazon.com/images/M/MV5BMjAyMTYzNjk4NV5BMl5BanBnXkFtZTcwNzE4MTU0NA@@._V1_Ratio0.7027_AL_.jpg',\n",
            "  'resultType': 'Title',\n",
            "  'title': 'Lexx'},\n",
            " {'description': '2018 Lexy Roxx',\n",
            "  'id': 'tt10800568',\n",
            "  'image': 'https://m.media-amazon.com/images/M/MV5BZWY5ODYwNzYtMmIyMS00YzhhLTg0OTAtODM1M2I5YzkxMzY1XkEyXkFqcGdeQXVyMTEwNDU1MzEy._V1_Ratio0.7568_AL_.jpg',\n",
            "  'resultType': 'Title',\n",
            "  'title': 'Lexxy Roxx: Lexy 360 - Der Film'},\n",
            " {'description': '2010 Joseph Gordon-Levitt, Carla Gugino',\n",
            "  'id': 'tt1340773',\n",
            "  'image': 'https://m.media-amazon.com/images/M/MV5BMTM0MDU1MjkyMF5BMl5BanBnXkFtZTcwNDQ5MDA1NA@@._V1_Ratio0.6757_AL_.jpg',\n",
            "  'resultType': 'Title',\n",
            "  'title': 'Elektra Luxx'},\n",
            " {'description': '2015 Music Video',\n",
            "  'id': 'tt22986614',\n",
            "  'image': 'https://m.media-amazon.com/images/M/MV5BYzY3ZWM4NzUtYjVkYi00YWE4LWExZmMtMzEwNGQ5ZDhiMTliXkEyXkFqcGdeQXVyMTU2MjAzMDI5._V1_Ratio1.1622_AL_.jpg',\n",
            "  'resultType': 'Title',\n",
            "  'title': 'Suray: Tun It Up (ft. Mr Lexx)'},\n",
            " {'description': '2016 Bobbie Brown, Lexxi Foxx',\n",
            "  'id': 'tt6197404',\n",
            "  'image': 'https://m.media-amazon.com/images/M/MV5BNDE3ZDQ3YTItOGMxMS00MGE5LWI4ZDItMDE5ZjBhN2Q1NTU5XkEyXkFqcGdeQXVyMTgxNzQ0NDI@._V1_Ratio0.6757_AL_.jpg',\n",
            "  'resultType': 'Title',\n",
            "  'title': \"Steel Panther: Live from Lexxi's Mom's Garage\"},\n",
            " {'description': '2018 Short Melissa Anderson, Erin Dillon',\n",
            "  'id': 'tt12646262',\n",
            "  'image': 'https://m.media-amazon.com/images/M/MV5BODczYTEwNTctYzAzYy00YjIzLThkNGQtMDdjYmU5NjI1MzAxXkEyXkFqcGdeQXVyMTIwNjM2NTQz._V1_Ratio2.3514_AL_.jpg',\n",
            "  'resultType': 'Title',\n",
            "  'title': 'Lexxe - Red Velvet'},\n",
            " {'description': '2022 Victoria Vertuga, Thomas Hobson',\n",
            "  'id': 'tt13451112',\n",
            "  'image': 'https://m.media-amazon.com/images/M/MV5BNWEwYzM5MTQtNDQ1OS00YTMzLTlkM2UtMjYxOTUxNTMyZDBjXkEyXkFqcGdeQXVyMjIyMzc3NDY@._V1_Ratio0.7568_AL_.jpg',\n",
            "  'resultType': 'Title',\n",
            "  'title': 'Lexi'},\n",
            " {'description': '2010 Rider Strong, Nikki Griffin',\n",
            "  'id': 'tt0929618',\n",
            "  'image': 'https://m.media-amazon.com/images/M/MV5BODQ4MjkwMDQ3Nl5BMl5BanBnXkFtZTcwMzAwOTIxMw@@._V1_Ratio0.7027_AL_.jpg',\n",
            "  'resultType': 'Title',\n",
            "  'title': 'The Penthouse'},\n",
            " {'description': '2014 Short Eva DeVirgilis, Jim Jackman',\n",
            "  'id': 'tt4396272',\n",
            "  'image': '',\n",
            "  'resultType': 'Title',\n",
            "  'title': 'Lexxxus'},\n",
            " {'description': '2008 TV Series Javier Cámara, Nathalie Poza',\n",
            "  'id': 'tt1202429',\n",
            "  'image': 'https://m.media-amazon.com/images/M/MV5BMmZhYmNlMWEtOTFkOS00OTlhLTkwMzMtN2FjNjg5ZjkzYmQwXkEyXkFqcGdeQXVyNTk3NDE2OTU@._V1_Ratio1.7568_AL_.jpg',\n",
            "  'resultType': 'Title',\n",
            "  'title': 'Lex'},\n",
            " {'description': '2001 S4.E2 TV Episode Lexx TV Series',\n",
            "  'id': 'tt0631332',\n",
            "  'image': 'https://m.media-amazon.com/images/M/MV5BMTc5MTc0ODQ1Ml5BMl5BanBnXkFtZTgwNjk4ODc3MjE@._V1_Ratio1.3514_AL_.jpg',\n",
            "  'resultType': 'Title',\n",
            "  'title': 'Texx Lexx'},\n",
            " {'description': \"2022 S22.E20 Podcast Episode Richard Herring's Leicester \"\n",
            "                 'Square Theatre Podcast Podcast Series',\n",
            "  'id': 'tt18071514',\n",
            "  'image': 'https://m.media-amazon.com/images/M/MV5BZDBhNjhiYjktMDkwNy00YmFmLTg5Y2EtOTQ1MDM2MjQxNTA2XkEyXkFqcGdeQXVyMjAzNjQ1Mjc@._V1_Ratio1.7838_AL_.jpg',\n",
            "  'resultType': 'Title',\n",
            "  'title': 'Laura Lexx'},\n",
            " {'description': '2016–2017 TV Series Josie Taylor, Alex Babic',\n",
            "  'id': 'tt6150252',\n",
            "  'image': 'https://m.media-amazon.com/images/M/MV5BYjdkMTAwZTgtYjEzNS00YjcyLWE4ZjktMmViYjU1Y2NmZTc2L2ltYWdlL2ltYWdlXkEyXkFqcGdeQXVyNTU2NTAxNDk@._V1_Ratio0.7027_AL_.jpg',\n",
            "  'resultType': 'Title',\n",
            "  'title': 'Lexi & Lottie: Trusty Twin Detectives'},\n",
            " {'description': '2018– Podcast Series Lex Fridman, Michael Malice',\n",
            "  'id': 'tt14044218',\n",
            "  'image': 'https://m.media-amazon.com/images/M/MV5BZDY5ZTdhNjQtYjAzZi00NTgwLWE3YTMtODAxY2M3ZTZkMTU4XkEyXkFqcGdeQXVyMDY3OTcyOQ@@._V1_Ratio1.0000_AL_.jpg',\n",
            "  'resultType': 'Title',\n",
            "  'title': 'Lex Fridman Podcast'},\n",
            " {'description': '2002 S4.E21 TV Episode Lexx TV Series',\n",
            "  'id': 'tt0631340',\n",
            "  'image': 'https://m.media-amazon.com/images/M/MV5BODkyNDcwNDgxN15BMl5BanBnXkFtZTgwMzU4ODc3MjE@._V1_Ratio1.3514_AL_.jpg',\n",
            "  'resultType': 'Title',\n",
            "  'title': 'Viva Lexx Vegas'},\n",
            " {'description': '2022– TV Mini Series Sarah Light, Deanna Cooney',\n",
            "  'id': 'tt17322972',\n",
            "  'image': 'https://m.media-amazon.com/images/M/MV5BOThjYTA5ZGQtNDYyNy00YTlhLWE3N2EtMjg2NTMwYTM2ZTk0XkEyXkFqcGdeQXVyNjg1NTY4NDU@._V1_Ratio0.7027_AL_.jpg',\n",
            "  'resultType': 'Title',\n",
            "  'title': 'Love Me Lex'},\n",
            " {'description': '2021 Video Lexi Luna, Madelyn Monroe',\n",
            "  'id': 'tt15679876',\n",
            "  'image': '',\n",
            "  'resultType': 'Title',\n",
            "  'title': \"It's a very naughty 4th of July with Madelyn Monroe, Madison \"\n",
            "           'Morgan, & Lexi Luna'},\n",
            " {'description': '2001 Michael Douglas, Sean Bean',\n",
            "  'id': 'tt0260866',\n",
            "  'image': 'https://m.media-amazon.com/images/M/MV5BYmZmNTg4NGQtOTMxZi00MWU3LTlkY2MtMjEyNzk3NTBlNzk0XkEyXkFqcGdeQXVyMjUzOTY1NTc@._V1_Ratio0.6757_AL_.jpg',\n",
            "  'resultType': 'Title',\n",
            "  'title': \"Don't Say a Word\"},\n",
            " {'description': '2010 Video Kendall Adams, Jacob Kowalski',\n",
            "  'id': 'tt1693912',\n",
            "  'image': '',\n",
            "  'resultType': 'Title',\n",
            "  'title': 'Sexx'},\n",
            " {'description': \"2019 S16.E1 Podcast Episode Richard Herring's Leicester \"\n",
            "                 'Square Theatre Podcast Podcast Series',\n",
            "  'id': 'tt18058678',\n",
            "  'image': 'https://m.media-amazon.com/images/M/MV5BZDBhNjhiYjktMDkwNy00YmFmLTg5Y2EtOTQ1MDM2MjQxNTA2XkEyXkFqcGdeQXVyMjAzNjQ1Mjc@._V1_Ratio1.7838_AL_.jpg',\n",
            "  'resultType': 'Title',\n",
            "  'title': 'Laura Lexx and Tony Law'},\n",
            " {'description': '2019 Podcast Episode Running Commentary Podcast Series',\n",
            "  'id': 'tt24553060',\n",
            "  'image': '',\n",
            "  'resultType': 'Title',\n",
            "  'title': 'Local Loops with Laura Lexx'},\n",
            " {'description': '2016 Video Mauvais Augure, Nirek',\n",
            "  'id': 'tt14690226',\n",
            "  'image': 'https://m.media-amazon.com/images/M/MV5BN2NmNGYxZTgtYjg3MC00ZDZhLTk1ODUtM2E4NGYwYzQ3YTFiXkEyXkFqcGdeQXVyMTA2NzA1NDYz._V1_Ratio1.7838_AL_.jpg',\n",
            "  'resultType': 'Title',\n",
            "  'title': 'Mauvais augure feat. Nirek & Ced (Elmaniak) Auger: La Belle Et La '\n",
            "           'Bête'},\n",
            " {'description': '2020 S1.E88 Podcast Episode Drunk Women Solving Crime '\n",
            "                 'Podcast Series',\n",
            "  'id': 'tt19501618',\n",
            "  'image': 'https://m.media-amazon.com/images/M/MV5BY2UwNzZkZDYtYmVhYy00NmI3LWI3NTYtOTMyOGUxNTIxNGIxXkEyXkFqcGdeQXVyMzY1MDA0OTc@._V1_Ratio1.3514_AL_.jpg',\n",
            "  'resultType': 'Title',\n",
            "  'title': 'Laura Lexx & The Case of The Gun Wielding Granny'},\n",
            " {'description': '2022 Podcast Episode Colored Radio Podcast Series',\n",
            "  'id': 'tt26092764',\n",
            "  'image': '',\n",
            "  'resultType': 'Title',\n",
            "  'title': \"CR: I'm a Genius! ft. Lexx & Emily\"}]\n"
          ]
        }
      ],
      "source": [
        "API_KEY = 'k_ynffhhna'\n",
        "\n",
        "title = 'lexx'\n",
        "url = \"https://imdb-api.com/en/API/SearchTitle/{key}/{title}\".format(key=API_KEY, title=title)\n",
        "\n",
        "response = requests.request(\"GET\", url, headers={}, data={})\n",
        "\n",
        "data = json.loads(response.text)  # recall json.loads for lab 1\n",
        "\n",
        "results = data['results']\n",
        "pprint(results)"
      ]
    },
    {
      "cell_type": "markdown",
      "source": [
        "Next we extract the item we want from the data set by applying a \"filter\":"
      ],
      "metadata": {
        "collapsed": false,
        "pycharm": {
          "name": "#%% md\n"
        },
        "id": "IRKXg4fgnNNJ"
      }
    },
    {
      "cell_type": "code",
      "execution_count": 3,
      "outputs": [
        {
          "output_type": "stream",
          "name": "stdout",
          "text": [
            "{'description': '1996–2002 TV Series Brian Downey, Michael McManus',\n",
            " 'id': 'tt0115243',\n",
            " 'image': 'https://m.media-amazon.com/images/M/MV5BOGFjMzQyMTYtMjQxNy00NjAyLWI2OWMtZGVhMjk4OGM3ZjE5XkEyXkFqcGdeQXVyNzMzMjU5NDY@._V1_Ratio0.6757_AL_.jpg',\n",
            " 'resultType': 'Title',\n",
            " 'title': 'Lexx'}\n"
          ]
        }
      ],
      "source": [
        "items = [item for item in results if item['title']=='Lexx' and \"TV\" in item['description']]\n",
        "assert len(items) == 1\n",
        "lexx = items[0]\n",
        "pprint(lexx)"
      ],
      "metadata": {
        "pycharm": {
          "name": "#%%\n"
        },
        "id": "onhisD6InNNK",
        "outputId": "6822d1a8-0660-41fd-aed2-eecaabb2c8b8",
        "colab": {
          "base_uri": "https://localhost:8080/"
        }
      }
    },
    {
      "cell_type": "markdown",
      "source": [
        "## Exercise 1\n",
        "\n",
        "In the code cell below, re-write the \"list comprehension\" above as a loop so you understand how it works.\n",
        "Notice how the \"conditional list comprehension\" is a compact way to \"filter\" items of interest from a large data set.\n"
      ],
      "metadata": {
        "collapsed": false,
        "pycharm": {
          "name": "#%% md\n"
        },
        "id": "dfrTZAVrnNNL"
      }
    },
    {
      "cell_type": "code",
      "execution_count": 4,
      "outputs": [],
      "source": [
        "items = []\n",
        "for item in results:\n",
        "  if item['title'] == 'Lexx' and \"TV\" in item['description']:\n",
        "    items.append(item)"
      ],
      "metadata": {
        "pycharm": {
          "name": "#%%\n"
        },
        "id": "zz48S1fJnNNM"
      }
    },
    {
      "cell_type": "markdown",
      "source": [
        "Notice that the `lexx` dictionary contains an `id` field that uniquely identifies this record in the database.\n",
        "\n",
        "We can use the `id` to fetch other information about the TV series, for example,\n",
        "*   get names of all actors in the TV Series Lexx\n"
      ],
      "metadata": {
        "id": "DNRs7ynOYwYk"
      }
    },
    {
      "cell_type": "code",
      "source": [
        "url = \"https://imdb-api.com/en/API/FullCast/{key}/{id}\".format(key=API_KEY, id=lexx['id'])\n",
        "response = requests.request(\"GET\", url, headers={}, data={})\n",
        "data = json.loads(response.text)\n",
        "\n",
        "actors = data['actors']\n",
        "pprint(actors[:10])   # recall the slice operator (it's a long list!)"
      ],
      "metadata": {
        "colab": {
          "base_uri": "https://localhost:8080/"
        },
        "id": "tiyXTDfnZAd0",
        "outputId": "8b3e5d4f-f0b1-479d-c444-d6433803922c"
      },
      "execution_count": 5,
      "outputs": [
        {
          "output_type": "stream",
          "name": "stdout",
          "text": [
            "[{'asCharacter': 'Stanley H. Tweedle / ... 61 episodes, 1996-2002',\n",
            "  'id': 'nm0235978',\n",
            "  'image': 'https://m.media-amazon.com/images/M/MV5BMTYxODI3OTM5Ml5BMl5BanBnXkFtZTgwMjM4ODc3MjE@._V1_Ratio1.3182_AL_.jpg',\n",
            "  'name': 'Brian Downey'},\n",
            " {'asCharacter': 'Kai / ... 61 episodes, 1996-2002',\n",
            "  'id': 'nm0573158',\n",
            "  'image': 'https://m.media-amazon.com/images/M/MV5BMTY3MjQ4NzE0NV5BMl5BanBnXkFtZTgwNDE4ODc3MjE@._V1_Ratio1.3182_AL_.jpg',\n",
            "  'name': 'Michael McManus'},\n",
            " {'asCharacter': '790 / ... 57 episodes, 1996-2002',\n",
            "  'id': 'nm0386601',\n",
            "  'image': 'https://m.media-amazon.com/images/M/MV5BMjMyMDM1NzgzNF5BMl5BanBnXkFtZTgwOTM4ODc3MjE@._V1_Ratio1.3182_AL_.jpg',\n",
            "  'name': 'Jeffrey Hirschfield'},\n",
            " {'asCharacter': 'Xev Bellringer / ... 55 episodes, 1998-2002',\n",
            "  'id': 'nm0781462',\n",
            "  'image': 'https://m.media-amazon.com/images/M/MV5BMTk2MDQ4NzExOF5BMl5BanBnXkFtZTcwOTMyNzcyMQ@@._V1_Ratio0.7273_AL_.jpg',\n",
            "  'name': 'Xenia Seeberg'},\n",
            " {'asCharacter': 'The Lexx 46 episodes, 1996-2002',\n",
            "  'id': 'nm0302577',\n",
            "  'image': 'https://imdb-api.com/images/original/nopicture.jpg',\n",
            "  'name': 'Tom Gallant'},\n",
            " {'asCharacter': 'Prince / ... 23 episodes, 2000-2002',\n",
            "  'id': 'nm0000911',\n",
            "  'image': 'https://m.media-amazon.com/images/M/MV5BMTgxMTY2NzM5NF5BMl5BanBnXkFtZTcwMDA5MDYxOA@@._V1_Ratio0.7727_AL_.jpg',\n",
            "  'name': 'Nigel Bennett'},\n",
            " {'asCharacter': 'Bunny Priest / ... 16 episodes, 1999-2002',\n",
            "  'id': 'nm0954934',\n",
            "  'image': 'https://m.media-amazon.com/images/M/MV5BZWM3ZjZiMjAtMmQ5Yy00OTUzLTlmMTMtMGUyMTBlZDNlYmFhXkEyXkFqcGdeQXVyMjI4MDE5NDY@._V1_Ratio1.0000_AL_.jpg',\n",
            "  'name': 'Patricia Zentilli'},\n",
            " {'asCharacter': 'Bound Man / ... 8 episodes, 1996-2002',\n",
            "  'id': 'nm0317596',\n",
            "  'image': 'https://m.media-amazon.com/images/M/MV5BNjNiNzAwMjQtYTU1NC00NDkzLWI4OTktYjA0NWRiZjEzZmFkXkEyXkFqcGdeQXVyMTAwMzUyMzUy._V1_Ratio0.7273_AL_.jpg',\n",
            "  'name': 'Lex Gigeroff'},\n",
            " {'asCharacter': 'Reginald J. Priest / ... 13 episodes, 2000-2002',\n",
            "  'id': 'nm0437708',\n",
            "  'image': 'https://m.media-amazon.com/images/M/MV5BMWFmNDI5YWEtMjRkYi00MTRhLTk5YjMtYTEwNTgyMWQ2ODk4XkEyXkFqcGdeQXVyNDM4NDA1Mg@@._V1_Ratio0.7273_AL_.jpg',\n",
            "  'name': 'Rolf Kanies'},\n",
            " {'asCharacter': 'Lyekka / ... 10 episodes, 1998-2002',\n",
            "  'id': 'nm0936263',\n",
            "  'image': 'https://imdb-api.com/images/original/nopicture.jpg',\n",
            "  'name': 'Louise Wischermann'}]\n"
          ]
        }
      ]
    },
    {
      "cell_type": "markdown",
      "source": [
        "Notice that the `asCharacter` field contains a number of different pieces of data as a single string, including the character name.\n",
        "This kind of \"free-form\" text data is notoriously challenging to parse...\n",
        "\n",
        "## Exercise 2\n",
        "\n",
        "In the code cell below, write a python function that takes a string input (the text from `asCharacter` field)\n",
        "and returns the number of episodes, if available, or None.\n",
        "\n",
        "Hints:\n",
        "* notice this is a numeric value followed by the word \"episodes\"\n",
        "* recall str.split() and str.isdigit() and other string build-ins.\n",
        "\n",
        "Add unit tests to cover as many cases from the `actors` data set above as you can.\n"
      ],
      "metadata": {
        "id": "iOZspDBVbBns"
      }
    },
    {
      "cell_type": "code",
      "execution_count": 11,
      "outputs": [
        {
          "output_type": "stream",
          "name": "stdout",
          "text": [
            "61\n"
          ]
        }
      ],
      "source": [
        "def epi_num(asCharacter):\n",
        "  return asCharacter.split(' episode')[0].split(' ')[-1]\n",
        "  \n",
        "print(epi_num(actors[0]['asCharacter']))"
      ],
      "metadata": {
        "pycharm": {
          "name": "#%%\n"
        },
        "id": "blNWaaADnNNS",
        "outputId": "d589eb4c-c1df-43cd-e681-1f2e9dcc89ad",
        "colab": {
          "base_uri": "https://localhost:8080/"
        }
      }
    },
    {
      "cell_type": "markdown",
      "source": [
        "## Exercise 3\n",
        "\n",
        "In the code cell below, write a python function that takes a string input (the text from `asCharacter` field)\n",
        "and returns just the character name.  This one may be even a little harder!\n",
        "\n",
        "Hints:\n",
        "* notice the character name is usually followed by a forward slash, `/`\n",
        "* don't worry if your algorithm does not perfectly parse every character's name --\n",
        "it may not really be possible to correclty handle all cases because the field format does not follow consistent rules\n",
        "\n",
        "Add unit tests to cover as many cases from the `actors` data set above as you can.\n"
      ],
      "metadata": {
        "collapsed": false,
        "pycharm": {
          "name": "#%% md\n"
        },
        "id": "kBN5LOdLnNNS"
      }
    },
    {
      "cell_type": "code",
      "execution_count": 14,
      "outputs": [
        {
          "output_type": "stream",
          "name": "stdout",
          "text": [
            "['Stanley H. Tweedle', 'Kai', '790', 'Xev Bellringer', 'The Lexx', 'Prince', 'Bunny Priest', 'Bound Man', 'Reginald J. Priest', 'Lyekka']\n"
          ]
        }
      ],
      "source": [
        "def char_name(asCharacter):\n",
        "  if '/' in asCharacter:\n",
        "    return asCharacter.split(' / ')[0]\n",
        "  else:\n",
        "    return ' '.join(asCharacter.split(' episode')[0].split(' ')[:-1])\n",
        "\n",
        "print([char_name(actor['asCharacter']) for actor in actors[:10]])"
      ],
      "metadata": {
        "pycharm": {
          "name": "#%%\n"
        },
        "id": "grC8ueIXnNNT",
        "outputId": "4213d517-632e-49a7-be76-52012ce89a62",
        "colab": {
          "base_uri": "https://localhost:8080/"
        }
      }
    },
    {
      "cell_type": "markdown",
      "source": [
        "\n",
        "## Exercise 4\n",
        "\n",
        "Using the functions you developed above, define 2 list comprehensions that:\n",
        "* create list of 2 tuples with (actor name, character description) for actors in Lexx  (from `asCharacter` field)\n",
        "* create a list of dictionaries, with keys:  'actor' and 'character' for the same data\n",
        "\n",
        "Hint: this is a very simple problem - the goal is to learn how to build these lists using a comprehension.\n",
        "\n",
        "Pretty print (pprint) your lists to visually verify the results."
      ],
      "metadata": {
        "id": "f_iRYAa3lqV0"
      }
    },
    {
      "cell_type": "code",
      "source": [
        "name_desc = [(actor['name'],actor['asCharacter']) for actor in actors[:10]]\n",
        "actor_char = [{actor['name']:char_name(actor['asCharacter'])} for actor in actors[:10]]\n",
        "\n",
        "pprint(name_desc)\n",
        "pprint(actor_char)"
      ],
      "metadata": {
        "id": "Ds1YevErlzCe",
        "pycharm": {
          "name": "#%%\n"
        },
        "outputId": "3ea668ed-c44b-46bf-902d-3b24f0502498",
        "colab": {
          "base_uri": "https://localhost:8080/"
        }
      },
      "execution_count": 15,
      "outputs": [
        {
          "output_type": "stream",
          "name": "stdout",
          "text": [
            "[('Brian Downey', 'Stanley H. Tweedle / ... 61 episodes, 1996-2002'), ('Michael McManus', 'Kai / ... 61 episodes, 1996-2002'), ('Jeffrey Hirschfield', '790 / ... 57 episodes, 1996-2002'), ('Xenia Seeberg', 'Xev Bellringer / ... 55 episodes, 1998-2002'), ('Tom Gallant', 'The Lexx 46 episodes, 1996-2002'), ('Nigel Bennett', 'Prince / ... 23 episodes, 2000-2002'), ('Patricia Zentilli', 'Bunny Priest / ... 16 episodes, 1999-2002'), ('Lex Gigeroff', 'Bound Man / ... 8 episodes, 1996-2002'), ('Rolf Kanies', 'Reginald J. Priest / ... 13 episodes, 2000-2002'), ('Louise Wischermann', 'Lyekka / ... 10 episodes, 1998-2002')]\n",
            "[{'Brian Downey': 'Stanley H. Tweedle'}, {'Michael McManus': 'Kai'}, {'Jeffrey Hirschfield': '790'}, {'Xenia Seeberg': 'Xev Bellringer'}, {'Tom Gallant': 'The Lexx'}, {'Nigel Bennett': 'Prince'}, {'Patricia Zentilli': 'Bunny Priest'}, {'Lex Gigeroff': 'Bound Man'}, {'Rolf Kanies': 'Reginald J. Priest'}, {'Louise Wischermann': 'Lyekka'}]\n"
          ]
        }
      ]
    }
  ]
}