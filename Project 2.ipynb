{
  "nbformat": 4,
  "nbformat_minor": 0,
  "metadata": {
    "colab": {
      "provenance": [],
      "authorship_tag": "ABX9TyOVrHLdMYyAu8WLkOXodGwp",
      "include_colab_link": true
    },
    "kernelspec": {
      "name": "python3",
      "display_name": "Python 3"
    },
    "language_info": {
      "name": "python"
    }
  },
  "cells": [
    {
      "cell_type": "markdown",
      "metadata": {
        "id": "view-in-github",
        "colab_type": "text"
      },
      "source": [
        "<a href=\"https://colab.research.google.com/github/pmilks/cap-comp215/blob/main/Project%202.ipynb\" target=\"_parent\"><img src=\"https://colab.research.google.com/assets/colab-badge.svg\" alt=\"Open In Colab\"/></a>"
      ]
    },
    {
      "cell_type": "markdown",
      "source": [
        "Database Creation"
      ],
      "metadata": {
        "id": "Utlr39loBbJ6"
      }
    },
    {
      "cell_type": "code",
      "source": [
        "import json, requests, os, pprint\n",
        "from pprint import pprint\n",
        "import numpy as np\n",
        "import matplotlib.pyplot as plt\n",
        "from IPython.display import Image\n",
        "\n",
        "client_id = 'lsNiv49bimpMq7ObIMsu34JI'\n",
        "client_secret = 'lRt51ghfyTpL4lAQ5Xwr9o8QMI4RMM4aUeIlJ3Guz7OFBGtV'\n",
        "\n",
        "class Photo:\n",
        "  def __init__(self, id, keywords):\n",
        "    self.id = id\n",
        "    self.keywords = keywords\n",
        "\n",
        "  def __str__(self):\n",
        "    return f\"{self.id}: {self.keywords}\"\n",
        "\n",
        "  @classmethod\n",
        "  def Categorize(cls, id):\n",
        "    with open(id,'rb') as image:\n",
        "      data = {'data': image}\n",
        "      keywords = requests.post('https://api.everypixel.com/v1/keywords', files=data,\n",
        "                               auth=(client_id, client_secret)).json()['keywords']\n",
        "      categories = {entry['keyword']:entry['score'] for entry in keywords[:10]}\n",
        "    return Photo(categories=categories, id=id)\n",
        "  \n",
        "  def content_filter(self, *args):\n",
        "    if set(self.keywords.keys()) & set(args):\n",
        "      return True #Flagged content\n",
        "    else:\n",
        "      return False #Not flagged content\n",
        "\n",
        "  def match_keywords(self, other):\n",
        "    matching_kw = set(self.keywords.keys()) & set(other.keywords.keys())\n",
        "    if not matching_kw:\n",
        "      return\n",
        "    return {match_kw:1-abs(self.keywords[match_kw]-other.keywords[match_kw]) for match_kw in matching_kw}\n",
        "  \n",
        "  def sort_most_matches(matches):\n",
        "    return sorted([(k, len(matches[k])) for k in matches.keys()], key=lambda x:x[1], reverse=True)\n",
        "\n",
        "  def similarity_score(self, other):\n",
        "    #similarity of SELF TO OTHER\n",
        "    comp = self.match_keywords(other)\n",
        "    score = 0\n",
        "    for kw in comp.keys():\n",
        "      score += self.keywords[kw]*comp[kw]\n",
        "    return score/len(self.keywords)\n",
        "    #perfect match = 1\n",
        "    #no match = 0\n",
        "\n",
        "with open('bank.txt','r') as f:\n",
        "  database = json.loads(f.read())\n",
        "  database = [Photo(id=photo, keywords=database[photo]) for photo in database.keys()]"
      ],
      "metadata": {
        "id": "NqY0nsLZBX2J"
      },
      "execution_count": 124,
      "outputs": []
    },
    {
      "cell_type": "code",
      "execution_count": 129,
      "metadata": {
        "colab": {
          "base_uri": "https://localhost:8080/"
        },
        "id": "JU-y-Z2mbLty",
        "outputId": "b67dafd7-1399-44b2-cfcc-dbc35f2e5853"
      },
      "outputs": [
        {
          "output_type": "execute_result",
          "data": {
            "text/plain": [
              "[('army.jpg', 0.6957245681842206),\n",
              " ('policeman.jpg', 0.10638693205228657),\n",
              " ('baseball.jpg', 0.06817459501384837),\n",
              " ('construction.jpg', 0.06542872194851562),\n",
              " ('football.jpeg', 0.06043971075228517),\n",
              " ('tennis.jpg', 0.05338793186544654),\n",
              " ('gardening.jpg', 0.05233953888107313),\n",
              " ('firefighter.jpg', 0.04603292424155755),\n",
              " ('minivan.jpg', 0.038626154446830506),\n",
              " ('boat.jpg', 0.03857783507638016),\n",
              " ('nyc.jpg', 0.03768152853064808),\n",
              " ('machupichu.jpg', 0.03726988691416808),\n",
              " ('colleseum.jpg', 0.03593097781606237),\n",
              " ('petra.jpg', 0.03536127623898731),\n",
              " ('tajmahal.jpg', 0.034847492645274536),\n",
              " ('golf.jpg', 0.033110061165336956),\n",
              " ('train.jpg', 0.03266038774301119),\n",
              " ('camel.png', 0.03217970607416475),\n",
              " ('wallofchina.jpg', 0.03143030142187125),\n",
              " ('gorilla.jpg', 0.031100397009360535),\n",
              " ('parrot.jpg', 0.030159462418223804),\n",
              " ('christ.jpg', 0.02934359061576895),\n",
              " ('basketball.jpg', 0.028256749059726912),\n",
              " ('swimming.jpg', 0.02628208078665277),\n",
              " ('hockey.jpg', 0.025858903045388435),\n",
              " ('edsheeran.jpg', 0.025672652390683448),\n",
              " ('biking.jpg', 0.025150962005502174),\n",
              " ('dog.jpg', 0.02418989300202111),\n",
              " ('motorcycle.jpg', 0.023621670630633324),\n",
              " ('cat.jpg', 0.023355939880893923),\n",
              " ('horse.jpg', 0.02323868853043163),\n",
              " ('theater.jpg', 0.020077312282537896),\n",
              " ('soccer.jpg', 0.01924749352389222),\n",
              " ('weightlifting.jpg', 0.01719052793860111),\n",
              " ('boxing.jpg', 0.017033870453711162),\n",
              " ('doctor.jpg', 0.016985587810802383)]"
            ]
          },
          "metadata": {},
          "execution_count": 129
        }
      ],
      "source": [
        "army = Photo(id=\"army.jpg\", keywords={\"army\": 0.9942000531810699, \"armed forces\": 0.9858088343087792, \"military\": 0.9851124039444504, \"uniform\": 0.9554957802768743, \"war\": 0.9282700337748006, \"weapon\": 0.8754790228124641, \"rifle\": 0.8405221248697905, \"special forces\": 0.6011035062726361, \"outdoors\": 0.5882105259291452, \"men\": 0.502345745936619, \"camouflage clothing\": 0.4691646829093634, \"gun\": 0.44768096851025635, \"conflict\": 0.44314516737482995, \"work helmet\": 0.4387717699150603, \"parade\": 0.3805579027471689})\n",
        "firefighter = Photo(id=\"firefighter.jpg\", keywords={\"firefighter\": 0.990223655793471, \"fire\": 0.9889083740936826, \"natural phenomenon\": 0.9889083740936826, \"flame\": 0.9862995986658112, \"occupation\": 0.9299696275540256, \"heat\": 0.9158851761381906, \"temperature\": 0.9158851761381906, \"burning\": 0.9092153643651081, \"working\": 0.8834813242714334, \"men\": 0.7701041699748132, \"work helmet\": 0.703411281697038, \"protective suit\": 0.6753508082578237, \"rescue\": 0.6736560285389862, \"hardhat\": 0.5607262192933496, \"fire hose\": 0.5259593673260592})\n",
        "\n",
        "new_photo = army\n",
        "\n",
        "all_matches = {data.id:new_photo.match_keywords(data) for data in database if new_photo.match_keywords(data)}\n",
        "all_matches_scored = [(data.id,army.similarity_score(data)) for data in database if army.match_keywords(data)]\n",
        "sorted(all_matches_scored,key=lambda x:x[1],reverse=True)"
      ]
    },
    {
      "cell_type": "code",
      "source": [
        "class Profile:\n",
        "  def __init__(self, interests):\n",
        "    self.interests = interests\n",
        "\n",
        "  def __str__(self):\n",
        "    return f\"Interests:{self.interests}\"\n",
        "\n",
        "  def engagement(self, photo):\n",
        "    for kw in photo.keywords.keys():\n",
        "      if kw not in self.interests.keys():\n",
        "        self.interests[kw] = 0.1*photo.keywords[kw]\n",
        "      else:\n",
        "        self.interests[kw] += (1-self.interests[kw])*(0.5**(1-photo.keywords[kw]))\n",
        "\n",
        "  def no_engagement(self,photo):\n",
        "    for kw in photo.keywords.keys():\n",
        "      if kw in self.interests.keys():\n",
        "        self.interests[kw] -= 0.005\n",
        "      if self.interests[kw] <= 0:\n",
        "        del self.interests[kw]\n",
        "\n",
        "  def accuracy(self,photo):\n",
        "    score = 0\n",
        "    for kw in set(self.interests.keys()) & set(photo.keywords.keys()):\n",
        "      score += self.interests[kw]*photo.keywords[kw]\n",
        "    return score/len(self.interests.keys())\n",
        "\n",
        "user = Profile({\"army\": 0.05, \"armed forces\": 0.05, \"military\": 0.05, \"uniform\": 0.05, \"war\": 0.05, \"weapon\": 0.05, \"rifle\": 0.05, \"special forces\": 0.05, \"outdoors\": 0.05, \"men\": 0.05, \"camouflage clothing\": 0.05, \"gun\": 0.05, \"conflict\": 0.05, \"work helmet\": 0.05, \"parade\": 0.05})\n",
        "accuracies = [(data.id, user.accuracy(data)) for data in database if user.accuracy(data) != 0]\n",
        "sorted(accuracies, key=lambda x:x[1], reverse=True)\n",
        "\n",
        "def Scroll(profile, photo):\n",
        "  while True:\n",
        "    "
      ],
      "metadata": {
        "colab": {
          "base_uri": "https://localhost:8080/"
        },
        "id": "9HlM_dp6VnWn",
        "outputId": "9ea9dfe1-7efd-42ba-ad44-e6b4245706e7"
      },
      "execution_count": 128,
      "outputs": [
        {
          "output_type": "execute_result",
          "data": {
            "text/plain": [
              "[('army.jpg', 0.034786228409211035),\n",
              " ('construction.jpg', 0.00864916904138203),\n",
              " ('policeman.jpg', 0.00828183544520456),\n",
              " ('tennis.jpg', 0.005504332006904765),\n",
              " ('gardening.jpg', 0.005456881914321486),\n",
              " ('firefighter.jpg', 0.004911718172239505),\n",
              " ('baseball.jpg', 0.004079468635883957),\n",
              " ('horse.jpg', 0.003318663386500133),\n",
              " ('doctor.jpg', 0.003317191935892134),\n",
              " ('boxing.jpg', 0.003312386217589618),\n",
              " ('cat.jpg', 0.003308696602050205),\n",
              " ('weightlifting.jpg', 0.003296793621637813),\n",
              " ('dog.jpg', 0.0032378076019077937),\n",
              " ('biking.jpg', 0.00315611329679799),\n",
              " ('soccer.jpg', 0.003092057580581477),\n",
              " ('theater.jpg', 0.0030094631956028117),\n",
              " ('parrot.jpg', 0.002730372835522656),\n",
              " ('motorcycle.jpg', 0.0026566824288933215),\n",
              " ('camel.png', 0.00255864489400463),\n",
              " ('football.jpeg', 0.002535029193700881),\n",
              " ('train.jpg', 0.0025177852317189923),\n",
              " ('golf.jpg', 0.0024795613813709),\n",
              " ('edsheeran.jpg', 0.002452541976163291),\n",
              " ('hockey.jpg', 0.0024340038820108542),\n",
              " ('swimming.jpg', 0.0023918837143088933),\n",
              " ('tajmahal.jpg', 0.0023318734870414757),\n",
              " ('petra.jpg', 0.0022882000426653146),\n",
              " ('colleseum.jpg', 0.0022397733695642894),\n",
              " ('basketball.jpg', 0.0021953389750484476),\n",
              " ('machupichu.jpg', 0.002125961304063528),\n",
              " ('boat.jpg', 0.00201478102892768),\n",
              " ('minivan.jpg', 0.0020106737094969353),\n",
              " ('nyc.jpg', 0.0018304332128602882),\n",
              " ('wallofchina.jpg', 0.001545639407780009),\n",
              " ('gorilla.jpg', 0.0012710134786680196),\n",
              " ('christ.jpg', 0.0011216786473322053)]"
            ]
          },
          "metadata": {},
          "execution_count": 128
        }
      ]
    },
    {
      "cell_type": "markdown",
      "source": [
        "Step 1. User uploads photo\n",
        "\n",
        "Step 2. ML, NLP, Metadata tagging"
      ],
      "metadata": {
        "id": "Jw04xQJhI_cH"
      }
    },
    {
      "cell_type": "code",
      "source": [
        "filephoto = ''\n",
        "#new_upload = Photo.Categorize(filephoto)\n",
        "new_upload = army\n",
        "plt.bar(new_upload.keywords.keys(), new_upload.keywords.values(), color='g')\n",
        "plt.title(\"Image Keywords & Weights\")\n",
        "plt.xticks(rotation=80)\n",
        "plt.show()"
      ],
      "metadata": {
        "colab": {
          "base_uri": "https://localhost:8080/",
          "height": 580
        },
        "id": "QDBHF0S3JQl2",
        "outputId": "226a7589-6849-448b-fe32-09c850449e3b"
      },
      "execution_count": 130,
      "outputs": [
        {
          "output_type": "display_data",
          "data": {
            "text/plain": [
              "<Figure size 640x480 with 1 Axes>"
            ],
            "image/png": "[encoded data removed]"
          },
          "metadata": {}
        }
      ]
    },
    {
      "cell_type": "markdown",
      "source": [
        "Step 3. Content Flagging"
      ],
      "metadata": {
        "id": "n_exnyGKMrnp"
      }
    },
    {
      "cell_type": "code",
      "source": [
        "if new_upload.content_filter('war'): #Replace hazard_tags\n",
        "  print(\"Hazardous content: Rejected\")\n",
        "else:\n",
        "  print(\"Suitable content: Accepted\")"
      ],
      "metadata": {
        "colab": {
          "base_uri": "https://localhost:8080/"
        },
        "id": "kNJ1MI62MxAt",
        "outputId": "8f69bbdd-ba99-41a2-fb22-d7e21010d4f5"
      },
      "execution_count": 131,
      "outputs": [
        {
          "output_type": "stream",
          "name": "stdout",
          "text": [
            "Hazardous content: Rejected\n"
          ]
        }
      ]
    },
    {
      "cell_type": "markdown",
      "source": [
        "Step 4. Duplicate flagging\n",
        "\n",
        "> *Introduced to \"For You\" page*\n",
        "\n"
      ],
      "metadata": {
        "id": "SQ10VqVZOi9C"
      }
    }
  ]
}