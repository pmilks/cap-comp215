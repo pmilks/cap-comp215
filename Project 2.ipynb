{
  "nbformat": 4,
  "nbformat_minor": 0,
  "metadata": {
    "colab": {
      "provenance": [],
      "authorship_tag": "ABX9TyO2TSQ68H0wvPRvqWZhmpL5",
      "include_colab_link": true
    },
    "kernelspec": {
      "name": "python3",
      "display_name": "Python 3"
    },
    "language_info": {
      "name": "python"
    }
  },
  "cells": [
    {
      "cell_type": "markdown",
      "metadata": {
        "id": "view-in-github",
        "colab_type": "text"
      },
      "source": [
        "<a href=\"https://colab.research.google.com/github/pmilks/cap-comp215/blob/main/Project%202.ipynb\" target=\"_parent\"><img src=\"https://colab.research.google.com/assets/colab-badge.svg\" alt=\"Open In Colab\"/></a>"
      ]
    },
    {
      "cell_type": "markdown",
      "source": [
        "Database Creation"
      ],
      "metadata": {
        "id": "Utlr39loBbJ6"
      }
    },
    {
      "cell_type": "code",
      "source": [
        "import json, requests, os, pprint\n",
        "from pprint import pprint\n",
        "import numpy as np\n",
        "from numpy.random import choice\n",
        "import matplotlib.pyplot as plt\n",
        "from IPython.display import Image\n",
        "\n",
        "client_id = 'lsNiv49bimpMq7ObIMsu34JI'\n",
        "client_secret = 'lRt51ghfyTpL4lAQ5Xwr9o8QMI4RMM4aUeIlJ3Guz7OFBGtV'\n",
        "\n",
        "class Photo:\n",
        "  def __init__(self, id, keywords):\n",
        "    self.id = id\n",
        "    self.keywords = keywords\n",
        "\n",
        "  def __str__(self):\n",
        "    return f\"{self.id}: {self.keywords}\"\n",
        "\n",
        "  @classmethod\n",
        "  def Categorize(cls, id):\n",
        "    with open(id,'rb') as image:\n",
        "      data = {'data': image}\n",
        "      keywords = requests.post('https://api.everypixel.com/v1/keywords', files=data,\n",
        "                               auth=(client_id, client_secret)).json()['keywords']\n",
        "      categories = {entry['keyword']:entry['score'] for entry in keywords[:10]}\n",
        "    return Photo(categories=categories, id=id)\n",
        "  \n",
        "  def content_filter(self, *args):\n",
        "    if set(self.keywords.keys()) & set(args):\n",
        "      return True #Flagged content\n",
        "    else:\n",
        "      return False #Not flagged content\n",
        "\n",
        "  def match_keywords(self, other):\n",
        "    matching_kw = set(self.keywords.keys()) & set(other.keywords.keys())\n",
        "    if not matching_kw:\n",
        "      return\n",
        "    return {match_kw:1-abs(self.keywords[match_kw]-other.keywords[match_kw]) for match_kw in matching_kw}\n",
        "  \n",
        "  def sort_most_matches(matches):\n",
        "    return sorted([(k, len(matches[k])) for k in matches.keys()], key=lambda x:x[1], reverse=True)\n",
        "\n",
        "  def similarity_score(self, other):\n",
        "    #similarity of SELF TO OTHER\n",
        "    comp = self.match_keywords(other)\n",
        "    score = 0\n",
        "    for kw in comp.keys():\n",
        "      score += self.keywords[kw]*comp[kw]\n",
        "    return score/len(self.keywords)\n",
        "    #perfect match = 1\n",
        "    #no match = 0\n",
        "\n",
        "with open('bank.txt','r') as f:\n",
        "  database = json.loads(f.read())\n",
        "  database = [Photo(id=photo, keywords=database[photo]) for photo in database.keys()]"
      ],
      "metadata": {
        "id": "NqY0nsLZBX2J"
      },
      "execution_count": 1,
      "outputs": []
    },
    {
      "cell_type": "code",
      "execution_count": 2,
      "metadata": {
        "colab": {
          "base_uri": "https://localhost:8080/"
        },
        "id": "JU-y-Z2mbLty",
        "outputId": "a8688e12-d779-475c-ed8a-0e48494a30d0"
      },
      "outputs": [
        {
          "output_type": "execute_result",
          "data": {
            "text/plain": [
              "[('army.jpg', 0.6957245681842205),\n",
              " ('policeman.jpg', 0.10638693205228657),\n",
              " ('baseball.jpg', 0.06817459501384837),\n",
              " ('construction.jpg', 0.06542872194851562),\n",
              " ('football.jpeg', 0.06043971075228517),\n",
              " ('tennis.jpg', 0.05338793186544654),\n",
              " ('gardening.jpg', 0.05233953888107313),\n",
              " ('firefighter.jpg', 0.04603292424155755),\n",
              " ('minivan.jpg', 0.038626154446830506),\n",
              " ('boat.jpg', 0.03857783507638016),\n",
              " ('nyc.jpg', 0.03768152853064808),\n",
              " ('machupichu.jpg', 0.03726988691416808),\n",
              " ('colleseum.jpg', 0.03593097781606237),\n",
              " ('petra.jpg', 0.03536127623898731),\n",
              " ('tajmahal.jpg', 0.034847492645274536),\n",
              " ('golf.jpg', 0.033110061165336956),\n",
              " ('train.jpg', 0.03266038774301119),\n",
              " ('camel.png', 0.03217970607416475),\n",
              " ('wallofchina.jpg', 0.03143030142187125),\n",
              " ('gorilla.jpg', 0.031100397009360535),\n",
              " ('parrot.jpg', 0.030159462418223804),\n",
              " ('christ.jpg', 0.02934359061576895),\n",
              " ('basketball.jpg', 0.028256749059726912),\n",
              " ('swimming.jpg', 0.02628208078665277),\n",
              " ('hockey.jpg', 0.025858903045388435),\n",
              " ('edsheeran.jpg', 0.025672652390683448),\n",
              " ('biking.jpg', 0.025150962005502174),\n",
              " ('dog.jpg', 0.02418989300202111),\n",
              " ('motorcycle.jpg', 0.023621670630633324),\n",
              " ('cat.jpg', 0.023355939880893923),\n",
              " ('horse.jpg', 0.02323868853043163),\n",
              " ('theater.jpg', 0.020077312282537896),\n",
              " ('soccer.jpg', 0.01924749352389222),\n",
              " ('weightlifting.jpg', 0.01719052793860111),\n",
              " ('boxing.jpg', 0.017033870453711162),\n",
              " ('doctor.jpg', 0.016985587810802383)]"
            ]
          },
          "metadata": {},
          "execution_count": 2
        }
      ],
      "source": [
        "army = Photo(id=\"army.jpg\", keywords={\"army\": 0.9942000531810699, \"armed forces\": 0.9858088343087792, \"military\": 0.9851124039444504, \"uniform\": 0.9554957802768743, \"war\": 0.9282700337748006, \"weapon\": 0.8754790228124641, \"rifle\": 0.8405221248697905, \"special forces\": 0.6011035062726361, \"outdoors\": 0.5882105259291452, \"men\": 0.502345745936619, \"camouflage clothing\": 0.4691646829093634, \"gun\": 0.44768096851025635, \"conflict\": 0.44314516737482995, \"work helmet\": 0.4387717699150603, \"parade\": 0.3805579027471689})\n",
        "firefighter = Photo(id=\"firefighter.jpg\", keywords={\"firefighter\": 0.990223655793471, \"fire\": 0.9889083740936826, \"natural phenomenon\": 0.9889083740936826, \"flame\": 0.9862995986658112, \"occupation\": 0.9299696275540256, \"heat\": 0.9158851761381906, \"temperature\": 0.9158851761381906, \"burning\": 0.9092153643651081, \"working\": 0.8834813242714334, \"men\": 0.7701041699748132, \"work helmet\": 0.703411281697038, \"protective suit\": 0.6753508082578237, \"rescue\": 0.6736560285389862, \"hardhat\": 0.5607262192933496, \"fire hose\": 0.5259593673260592})\n",
        "\n",
        "new_photo = army\n",
        "\n",
        "all_matches = {data.id:new_photo.match_keywords(data) for data in database if new_photo.match_keywords(data)}\n",
        "all_matches_scored = [(data.id,army.similarity_score(data)) for data in database if army.match_keywords(data)]\n",
        "sorted(all_matches_scored,key=lambda x:x[1],reverse=True)"
      ]
    },
    {
      "cell_type": "code",
      "source": [
        "class Profile:\n",
        "  def __init__(self, interests):\n",
        "    self.interests = interests\n",
        "\n",
        "  def __str__(self):\n",
        "    return f\"Interests:{self.interests}\"\n",
        "\n",
        "  def engagement(self, photo):\n",
        "    for kw in photo.keywords.keys():\n",
        "      if kw not in self.interests.keys():\n",
        "        self.interests[kw] = 0.1*photo.keywords[kw]\n",
        "      else:\n",
        "        self.interests[kw] += (1-self.interests[kw])*(0.01**(1-photo.keywords[kw]))\n",
        "\n",
        "  def no_engagement(self,photo):\n",
        "    for kw in photo.keywords.keys():\n",
        "      if kw in self.interests.keys():\n",
        "        self.interests[kw] -= 0.025\n",
        "        if self.interests[kw] <= 0:\n",
        "          del self.interests[kw]\n",
        "\n",
        "  def accuracy(self,photo):\n",
        "    score = 0\n",
        "    for kw in set(self.interests.keys()) & set(photo.keywords.keys()):\n",
        "      score += self.interests[kw]*photo.keywords[kw]\n",
        "    return score/len(self.interests.keys())\n",
        "\n",
        "  def probability(self,database):\n",
        "    accuracies = [(data, self.accuracy(data)) for data in database]\n",
        "    no_inf = [acc for acc in accuracies if acc[1] == 0] #\n",
        "    inf = [acc for acc in accuracies if acc[1] != 0]\n",
        "    inf_sum = sum(j for i,j in inf)\n",
        "    min = 0.8\n",
        "    probabilities = []\n",
        "    if len(no_inf) == 0:\n",
        "      min = 1\n",
        "    if len(inf) == 0:\n",
        "      min = 0\n",
        "    for acc in accuracies:\n",
        "      if acc in inf:\n",
        "        probabilities.append((acc[0], (acc[1]/inf_sum)*min))\n",
        "      else:\n",
        "        probabilities.append((acc[0], (1-min)/(len(no_inf))))\n",
        "    return probabilities\n",
        "\n",
        "\n",
        "user = Profile({\"army\": 0.05, \"armed forces\": 0.05, \"military\": 0.05, \"uniform\": 0.05, \"war\": 0.05, \"weapon\": 0.05, \"rifle\": 0.05, \"special forces\": 0.05, \"outdoors\": 0.05, \"men\": 0.05, \"camouflage clothing\": 0.05, \"gun\": 0.05, \"conflict\": 0.05, \"work helmet\": 0.05, \"parade\": 0.05})\n",
        "\n",
        "def Scroll(profile, database):\n",
        "  dyn_database = {prob[0]:prob[1] for prob in profile.probability(database)}\n",
        "  while True:\n",
        "    selec = choice(list(dyn_database.keys()),p=list(dyn_database.values()))\n",
        "    print(selec.id)\n",
        "    eng = input('Press Y to engage | Press N to ignore: ') == 'Y'\n",
        "    if eng:\n",
        "      profile.engagement(selec)\n",
        "    else:\n",
        "      profile.no_engagement(selec)\n",
        "    del dyn_database[selec]\n",
        "    dyn_database = {prob[0]:prob[1] for prob in profile.probability(dyn_database)}\n",
        "\n",
        "Scroll(user,database)"
      ],
      "metadata": {
        "colab": {
          "base_uri": "https://localhost:8080/",
          "height": 467
        },
        "id": "9HlM_dp6VnWn",
        "outputId": "49058c48-91e8-465e-f9bc-c527c1d65307"
      },
      "execution_count": 47,
      "outputs": [
        {
          "output_type": "stream",
          "name": "stdout",
          "text": [
            "army.jpg\n",
            "Press Y to engage | Press N to ignore: Y\n",
            "sushi.jpg\n",
            "Press Y to engage | Press N to ignore: N\n",
            "train.jpg\n",
            "Press Y to engage | Press N to ignore: N\n",
            "construction.jpg\n"
          ]
        },
        {
          "output_type": "error",
          "ename": "KeyboardInterrupt",
          "evalue": "ignored",
          "traceback": [
            "\u001b[0;31m---------------------------------------------------------------------------\u001b[0m",
            "\u001b[0;31mKeyboardInterrupt\u001b[0m                         Traceback (most recent call last)",
            "\u001b[0;32m<ipython-input-47-10cc4828af8f>\u001b[0m in \u001b[0;36m<cell line: 62>\u001b[0;34m()\u001b[0m\n\u001b[1;32m     60\u001b[0m     \u001b[0mdyn_database\u001b[0m \u001b[0;34m=\u001b[0m \u001b[0;34m{\u001b[0m\u001b[0mprob\u001b[0m\u001b[0;34m[\u001b[0m\u001b[0;36m0\u001b[0m\u001b[0;34m]\u001b[0m\u001b[0;34m:\u001b[0m\u001b[0mprob\u001b[0m\u001b[0;34m[\u001b[0m\u001b[0;36m1\u001b[0m\u001b[0;34m]\u001b[0m \u001b[0;32mfor\u001b[0m \u001b[0mprob\u001b[0m \u001b[0;32min\u001b[0m \u001b[0mprofile\u001b[0m\u001b[0;34m.\u001b[0m\u001b[0mprobability\u001b[0m\u001b[0;34m(\u001b[0m\u001b[0mdyn_database\u001b[0m\u001b[0;34m)\u001b[0m\u001b[0;34m}\u001b[0m\u001b[0;34m\u001b[0m\u001b[0;34m\u001b[0m\u001b[0m\n\u001b[1;32m     61\u001b[0m \u001b[0;34m\u001b[0m\u001b[0m\n\u001b[0;32m---> 62\u001b[0;31m \u001b[0mScroll\u001b[0m\u001b[0;34m(\u001b[0m\u001b[0muser\u001b[0m\u001b[0;34m,\u001b[0m\u001b[0mdatabase\u001b[0m\u001b[0;34m)\u001b[0m\u001b[0;34m\u001b[0m\u001b[0;34m\u001b[0m\u001b[0m\n\u001b[0m",
            "\u001b[0;32m<ipython-input-47-10cc4828af8f>\u001b[0m in \u001b[0;36mScroll\u001b[0;34m(profile, database)\u001b[0m\n\u001b[1;32m     52\u001b[0m     \u001b[0mselec\u001b[0m \u001b[0;34m=\u001b[0m \u001b[0mchoice\u001b[0m\u001b[0;34m(\u001b[0m\u001b[0mlist\u001b[0m\u001b[0;34m(\u001b[0m\u001b[0mdyn_database\u001b[0m\u001b[0;34m.\u001b[0m\u001b[0mkeys\u001b[0m\u001b[0;34m(\u001b[0m\u001b[0;34m)\u001b[0m\u001b[0;34m)\u001b[0m\u001b[0;34m,\u001b[0m\u001b[0mp\u001b[0m\u001b[0;34m=\u001b[0m\u001b[0mlist\u001b[0m\u001b[0;34m(\u001b[0m\u001b[0mdyn_database\u001b[0m\u001b[0;34m.\u001b[0m\u001b[0mvalues\u001b[0m\u001b[0;34m(\u001b[0m\u001b[0;34m)\u001b[0m\u001b[0;34m)\u001b[0m\u001b[0;34m)\u001b[0m\u001b[0;34m\u001b[0m\u001b[0;34m\u001b[0m\u001b[0m\n\u001b[1;32m     53\u001b[0m     \u001b[0mprint\u001b[0m\u001b[0;34m(\u001b[0m\u001b[0mselec\u001b[0m\u001b[0;34m.\u001b[0m\u001b[0mid\u001b[0m\u001b[0;34m)\u001b[0m\u001b[0;34m\u001b[0m\u001b[0;34m\u001b[0m\u001b[0m\n\u001b[0;32m---> 54\u001b[0;31m     \u001b[0meng\u001b[0m \u001b[0;34m=\u001b[0m \u001b[0minput\u001b[0m\u001b[0;34m(\u001b[0m\u001b[0;34m'Press Y to engage | Press N to ignore: '\u001b[0m\u001b[0;34m)\u001b[0m \u001b[0;34m==\u001b[0m \u001b[0;34m'Y'\u001b[0m\u001b[0;34m\u001b[0m\u001b[0;34m\u001b[0m\u001b[0m\n\u001b[0m\u001b[1;32m     55\u001b[0m     \u001b[0;32mif\u001b[0m \u001b[0meng\u001b[0m\u001b[0;34m:\u001b[0m\u001b[0;34m\u001b[0m\u001b[0;34m\u001b[0m\u001b[0m\n\u001b[1;32m     56\u001b[0m       \u001b[0mprofile\u001b[0m\u001b[0;34m.\u001b[0m\u001b[0mengagement\u001b[0m\u001b[0;34m(\u001b[0m\u001b[0mselec\u001b[0m\u001b[0;34m)\u001b[0m\u001b[0;34m\u001b[0m\u001b[0;34m\u001b[0m\u001b[0m\n",
            "\u001b[0;32m/usr/local/lib/python3.9/dist-packages/ipykernel/kernelbase.py\u001b[0m in \u001b[0;36mraw_input\u001b[0;34m(self, prompt)\u001b[0m\n\u001b[1;32m    849\u001b[0m                 \u001b[0;34m\"raw_input was called, but this frontend does not support input requests.\"\u001b[0m\u001b[0;34m\u001b[0m\u001b[0;34m\u001b[0m\u001b[0m\n\u001b[1;32m    850\u001b[0m             )\n\u001b[0;32m--> 851\u001b[0;31m         return self._input_request(str(prompt),\n\u001b[0m\u001b[1;32m    852\u001b[0m             \u001b[0mself\u001b[0m\u001b[0;34m.\u001b[0m\u001b[0m_parent_ident\u001b[0m\u001b[0;34m,\u001b[0m\u001b[0;34m\u001b[0m\u001b[0;34m\u001b[0m\u001b[0m\n\u001b[1;32m    853\u001b[0m             \u001b[0mself\u001b[0m\u001b[0;34m.\u001b[0m\u001b[0m_parent_header\u001b[0m\u001b[0;34m,\u001b[0m\u001b[0;34m\u001b[0m\u001b[0;34m\u001b[0m\u001b[0m\n",
            "\u001b[0;32m/usr/local/lib/python3.9/dist-packages/ipykernel/kernelbase.py\u001b[0m in \u001b[0;36m_input_request\u001b[0;34m(self, prompt, ident, parent, password)\u001b[0m\n\u001b[1;32m    893\u001b[0m             \u001b[0;32mexcept\u001b[0m \u001b[0mKeyboardInterrupt\u001b[0m\u001b[0;34m:\u001b[0m\u001b[0;34m\u001b[0m\u001b[0;34m\u001b[0m\u001b[0m\n\u001b[1;32m    894\u001b[0m                 \u001b[0;31m# re-raise KeyboardInterrupt, to truncate traceback\u001b[0m\u001b[0;34m\u001b[0m\u001b[0;34m\u001b[0m\u001b[0m\n\u001b[0;32m--> 895\u001b[0;31m                 \u001b[0;32mraise\u001b[0m \u001b[0mKeyboardInterrupt\u001b[0m\u001b[0;34m(\u001b[0m\u001b[0;34m\"Interrupted by user\"\u001b[0m\u001b[0;34m)\u001b[0m \u001b[0;32mfrom\u001b[0m \u001b[0;32mNone\u001b[0m\u001b[0;34m\u001b[0m\u001b[0;34m\u001b[0m\u001b[0m\n\u001b[0m\u001b[1;32m    896\u001b[0m             \u001b[0;32mexcept\u001b[0m \u001b[0mException\u001b[0m \u001b[0;32mas\u001b[0m \u001b[0me\u001b[0m\u001b[0;34m:\u001b[0m\u001b[0;34m\u001b[0m\u001b[0;34m\u001b[0m\u001b[0m\n\u001b[1;32m    897\u001b[0m                 \u001b[0mself\u001b[0m\u001b[0;34m.\u001b[0m\u001b[0mlog\u001b[0m\u001b[0;34m.\u001b[0m\u001b[0mwarning\u001b[0m\u001b[0;34m(\u001b[0m\u001b[0;34m\"Invalid Message:\"\u001b[0m\u001b[0;34m,\u001b[0m \u001b[0mexc_info\u001b[0m\u001b[0;34m=\u001b[0m\u001b[0;32mTrue\u001b[0m\u001b[0;34m)\u001b[0m\u001b[0;34m\u001b[0m\u001b[0;34m\u001b[0m\u001b[0m\n",
            "\u001b[0;31mKeyboardInterrupt\u001b[0m: Interrupted by user"
          ]
        }
      ]
    },
    {
      "cell_type": "markdown",
      "source": [
        "Step 1. User uploads photo\n",
        "\n",
        "Step 2. ML, NLP, Metadata tagging"
      ],
      "metadata": {
        "id": "Jw04xQJhI_cH"
      }
    },
    {
      "cell_type": "code",
      "source": [
        "filephoto = ''\n",
        "#new_upload = Photo.Categorize(filephoto)\n",
        "new_upload = army\n",
        "plt.bar(new_upload.keywords.keys(), new_upload.keywords.values(), color='g')\n",
        "plt.title(\"Image Keywords & Weights\")\n",
        "plt.xticks(rotation=80)\n",
        "plt.show()"
      ],
      "metadata": {
        "id": "QDBHF0S3JQl2"
      },
      "execution_count": null,
      "outputs": []
    },
    {
      "cell_type": "markdown",
      "source": [
        "Step 3. Content Flagging"
      ],
      "metadata": {
        "id": "n_exnyGKMrnp"
      }
    },
    {
      "cell_type": "code",
      "source": [
        "if new_upload.content_filter('war'): #Replace hazard_tags\n",
        "  print(\"Hazardous content: Rejected\")\n",
        "else:\n",
        "  print(\"Suitable content: Accepted\")"
      ],
      "metadata": {
        "id": "kNJ1MI62MxAt"
      },
      "execution_count": null,
      "outputs": []
    },
    {
      "cell_type": "markdown",
      "source": [
        "Step 4. Duplicate flagging\n",
        "\n",
        "> *Introduced to \"For You\" page*\n",
        "\n"
      ],
      "metadata": {
        "id": "SQ10VqVZOi9C"
      }
    }
  ]
}