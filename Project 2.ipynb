{
  "nbformat": 4,
  "nbformat_minor": 0,
  "metadata": {
    "colab": {
      "provenance": [],
      "authorship_tag": "ABX9TyO+WjuXihLPUB68ZH353dg3",
      "include_colab_link": true
    },
    "kernelspec": {
      "name": "python3",
      "display_name": "Python 3"
    },
    "language_info": {
      "name": "python"
    }
  },
  "cells": [
    {
      "cell_type": "markdown",
      "metadata": {
        "id": "view-in-github",
        "colab_type": "text"
      },
      "source": [
        "<a href=\"https://colab.research.google.com/github/pmilks/cap-comp215/blob/main/Project%202.ipynb\" target=\"_parent\"><img src=\"https://colab.research.google.com/assets/colab-badge.svg\" alt=\"Open In Colab\"/></a>"
      ]
    },
    {
      "cell_type": "markdown",
      "source": [
        "Database Creation"
      ],
      "metadata": {
        "id": "Utlr39loBbJ6"
      }
    },
    {
      "cell_type": "code",
      "source": [
        "import json, requests, os, pprint\n",
        "from pprint import pprint\n",
        "import numpy as np\n",
        "from numpy.random import choice\n",
        "import matplotlib.pyplot as plt\n",
        "from IPython.display import Image\n",
        "\n",
        "client_id = 'lsNiv49bimpMq7ObIMsu34JI'\n",
        "client_secret = 'lRt51ghfyTpL4lAQ5Xwr9o8QMI4RMM4aUeIlJ3Guz7OFBGtV'\n",
        "\n",
        "class Photo:\n",
        "  def __init__(self, id, keywords):\n",
        "    self.id = id\n",
        "    self.keywords = keywords\n",
        "\n",
        "  def __str__(self):\n",
        "    return f\"{self.id}: {self.keywords}\"\n",
        "\n",
        "  @classmethod\n",
        "  def Categorize(cls, id):\n",
        "    with open(id,'rb') as image:\n",
        "      data = {'data': image}\n",
        "      keywords = requests.post('https://api.everypixel.com/v1/keywords', files=data,\n",
        "                               auth=(client_id, client_secret)).json()['keywords']\n",
        "      categories = {entry['keyword']:entry['score'] for entry in keywords[:10]}\n",
        "    return Photo(keywords=categories, id=id)\n",
        "  \n",
        "  def content_filter(self, *args):\n",
        "    if set(self.keywords.keys()) & set(args):\n",
        "      return True #Flagged content\n",
        "    else:\n",
        "      return False #Not flagged content\n",
        "\n",
        "  def match_keywords(self, other):\n",
        "    matching_kw = set(self.keywords.keys()) & set(other.keywords.keys())\n",
        "    if not matching_kw:\n",
        "      return\n",
        "    return {match_kw:1-abs(self.keywords[match_kw]-other.keywords[match_kw]) for match_kw in matching_kw}\n",
        "  \n",
        "  def sort_most_matches(matches):\n",
        "    return sorted([(k, len(matches[k])) for k in matches.keys()], key=lambda x:x[1], reverse=True)\n",
        "\n",
        "  def similarity_score(self, other):\n",
        "    #similarity of SELF TO OTHER\n",
        "    comp = self.match_keywords(other)\n",
        "    score = 0\n",
        "    for kw in comp.keys():\n",
        "      score += self.keywords[kw]*comp[kw]\n",
        "    return score/len(self.keywords)\n",
        "    #perfect match = 1\n",
        "    #no match = 0\n",
        "\n",
        "with open('bank.txt','r') as f:\n",
        "  database = json.loads(f.read())\n",
        "  database = [Photo(id=photo, keywords=database[photo]) for photo in database.keys()]"
      ],
      "metadata": {
        "id": "NqY0nsLZBX2J"
      },
      "execution_count": 22,
      "outputs": []
    },
    {
      "cell_type": "code",
      "source": [
        "class Profile:\n",
        "  def __init__(self, interests):\n",
        "    self.interests = interests\n",
        "\n",
        "  def __str__(self):\n",
        "    return f\"Interests:{self.interests}\"\n",
        "\n",
        "  def engagement(self, photo):\n",
        "    for kw in photo.keywords.keys():\n",
        "      if kw not in self.interests.keys():\n",
        "        self.interests[kw] = 0.1*photo.keywords[kw]\n",
        "      else:\n",
        "        self.interests[kw] += (1-self.interests[kw])*(0.01**(1-photo.keywords[kw]))\n",
        "\n",
        "  def no_engagement(self,photo):\n",
        "    for kw in photo.keywords.keys():\n",
        "      if kw in self.interests.keys():\n",
        "        self.interests[kw] -= 0.025\n",
        "        if self.interests[kw] <= 0:\n",
        "          del self.interests[kw]\n",
        "\n",
        "  def accuracy(self,photo):\n",
        "    score = 0\n",
        "    for kw in set(self.interests.keys()) & set(photo.keywords.keys()):\n",
        "      score += self.interests[kw]*photo.keywords[kw]\n",
        "    return score/len(self.interests.keys())\n",
        "\n",
        "  def probability(self,database):\n",
        "    accuracies = [(data, self.accuracy(data)) for data in database]\n",
        "    no_inf = [acc for acc in accuracies if acc[1] == 0] #\n",
        "    inf = [acc for acc in accuracies if acc[1] != 0]\n",
        "    inf_sum = sum(j for i,j in inf)\n",
        "    min = 0.8\n",
        "    probabilities = []\n",
        "    if len(no_inf) == 0:\n",
        "      min = 1\n",
        "    if len(inf) == 0:\n",
        "      min = 0\n",
        "    for acc in accuracies:\n",
        "      if acc in inf:\n",
        "        probabilities.append((acc[0], (acc[1]/inf_sum)*min))\n",
        "      else:\n",
        "        probabilities.append((acc[0], (1-min)/(len(no_inf))))\n",
        "    return probabilities\n",
        "\n",
        "def Scroll(profile, database):\n",
        "  dyn_database = {prob[0]:prob[1] for prob in profile.probability(database)}\n",
        "  while True:\n",
        "    selec = choice(list(dyn_database.keys()),p=list(dyn_database.values()))\n",
        "    print(selec.id)\n",
        "    eng = input('Press Y to engage | Press N to ignore: ') == 'Y'\n",
        "    if eng:\n",
        "      profile.engagement(selec)\n",
        "    else:\n",
        "      profile.no_engagement(selec)\n",
        "    del dyn_database[selec]\n",
        "    dyn_database = {prob[0]:prob[1] for prob in profile.probability(dyn_database)}"
      ],
      "metadata": {
        "id": "9HlM_dp6VnWn"
      },
      "execution_count": 23,
      "outputs": []
    },
    {
      "cell_type": "markdown",
      "source": [
        "Step 1. User uploads photo\n",
        "\n",
        "Step 2. ML, NLP, Metadata tagging"
      ],
      "metadata": {
        "id": "Jw04xQJhI_cH"
      }
    },
    {
      "cell_type": "code",
      "source": [
        "filephoto = 'dinosaur.jpg' #name\n",
        "new_upload = Photo.Categorize(filephoto)\n",
        "plt.bar(new_upload.keywords.keys(), new_upload.keywords.values(), color='g')\n",
        "plt.title(\"Image Keywords & Weights\")\n",
        "plt.xticks(rotation=80)\n",
        "plt.show()"
      ],
      "metadata": {
        "colab": {
          "base_uri": "https://localhost:8080/",
          "height": 569
        },
        "id": "QDBHF0S3JQl2",
        "outputId": "015448a7-9a9c-40b2-b9c7-d178b086b661"
      },
      "execution_count": 24,
      "outputs": [
        {
          "output_type": "display_data",
          "data": {
            "text/plain": [
              "<Figure size 640x480 with 1 Axes>"
            ],
            "image/png": "[encoded data removed]"
          },
          "metadata": {}
        }
      ]
    },
    {
      "cell_type": "markdown",
      "source": [
        "Step 3. Content Flagging"
      ],
      "metadata": {
        "id": "n_exnyGKMrnp"
      }
    },
    {
      "cell_type": "code",
      "source": [
        "if new_upload.content_filter('car'): #Replace hazard_tags\n",
        "  print(\"Hazardous content: Rejected\")\n",
        "else:\n",
        "  print(\"Suitable content: Accepted\")\n",
        "  database.append(new_upload)"
      ],
      "metadata": {
        "colab": {
          "base_uri": "https://localhost:8080/"
        },
        "id": "kNJ1MI62MxAt",
        "outputId": "969a034e-4d6b-4361-8cd4-278d5a5244c1"
      },
      "execution_count": 25,
      "outputs": [
        {
          "output_type": "stream",
          "name": "stdout",
          "text": [
            "Suitable content: Accepted\n"
          ]
        }
      ]
    },
    {
      "cell_type": "markdown",
      "source": [
        "Step 4. Duplicate flagging\n",
        "\n",
        "> *Introduced to \"For You\" page*\n",
        "\n"
      ],
      "metadata": {
        "id": "SQ10VqVZOi9C"
      }
    },
    {
      "cell_type": "markdown",
      "source": [
        "Step 5. Recommendation (User -> Photo)"
      ],
      "metadata": {
        "id": "9lfKMHL67ASE"
      }
    },
    {
      "cell_type": "code",
      "source": [
        "user = Profile({'blank_null':0})\n",
        "Scroll(user,database)"
      ],
      "metadata": {
        "colab": {
          "base_uri": "https://localhost:8080/",
          "height": 901
        },
        "id": "9gON2Xq36UAR",
        "outputId": "72e070b4-ec99-4ff8-d6ab-567f556ee9c1"
      },
      "execution_count": 26,
      "outputs": [
        {
          "output_type": "stream",
          "name": "stdout",
          "text": [
            "motorcycle.jpg\n",
            "Press Y to engage | Press N to ignore: N\n",
            "parrot.jpg\n",
            "Press Y to engage | Press N to ignore: Y\n",
            "dog.jpg\n",
            "Press Y to engage | Press N to ignore: Y\n",
            "cat.jpg\n",
            "Press Y to engage | Press N to ignore: Y\n",
            "horse.jpg\n",
            "Press Y to engage | Press N to ignore: Y\n",
            "maldives.jpg\n",
            "Press Y to engage | Press N to ignore: N\n",
            "dolphin.jpg\n",
            "Press Y to engage | Press N to ignore: Y\n",
            "golf.jpg\n",
            "Press Y to engage | Press N to ignore: N\n",
            "firefighter.jpg\n",
            "Press Y to engage | Press N to ignore: N\n",
            "tajmahal.jpg\n",
            "Press Y to engage | Press N to ignore: N\n",
            "wallofchina.jpg\n",
            "Press Y to engage | Press N to ignore: N\n",
            "petra.jpg\n",
            "Press Y to engage | Press N to ignore: N\n",
            "boat.jpg\n",
            "Press Y to engage | Press N to ignore: N\n",
            "construction.jpg\n",
            "Press Y to engage | Press N to ignore: N\n",
            "teacher.jpg\n",
            "Press Y to engage | Press N to ignore: N\n",
            "peru.jpg\n",
            "Press Y to engage | Press N to ignore: N\n",
            "dinosaur.jpg\n"
          ]
        },
        {
          "output_type": "error",
          "ename": "KeyboardInterrupt",
          "evalue": "ignored",
          "traceback": [
            "\u001b[0;31m---------------------------------------------------------------------------\u001b[0m",
            "\u001b[0;31mKeyboardInterrupt\u001b[0m                         Traceback (most recent call last)",
            "\u001b[0;32m<ipython-input-26-d9ab76b75a2a>\u001b[0m in \u001b[0;36m<cell line: 2>\u001b[0;34m()\u001b[0m\n\u001b[1;32m      1\u001b[0m \u001b[0muser\u001b[0m \u001b[0;34m=\u001b[0m \u001b[0mProfile\u001b[0m\u001b[0;34m(\u001b[0m\u001b[0;34m{\u001b[0m\u001b[0;34m'blank_null'\u001b[0m\u001b[0;34m:\u001b[0m\u001b[0;36m0\u001b[0m\u001b[0;34m}\u001b[0m\u001b[0;34m)\u001b[0m\u001b[0;34m\u001b[0m\u001b[0;34m\u001b[0m\u001b[0m\n\u001b[0;32m----> 2\u001b[0;31m \u001b[0mScroll\u001b[0m\u001b[0;34m(\u001b[0m\u001b[0muser\u001b[0m\u001b[0;34m,\u001b[0m\u001b[0mdatabase\u001b[0m\u001b[0;34m)\u001b[0m\u001b[0;34m\u001b[0m\u001b[0;34m\u001b[0m\u001b[0m\n\u001b[0m",
            "\u001b[0;32m<ipython-input-23-e4191dfddf42>\u001b[0m in \u001b[0;36mScroll\u001b[0;34m(profile, database)\u001b[0m\n\u001b[1;32m     49\u001b[0m     \u001b[0mselec\u001b[0m \u001b[0;34m=\u001b[0m \u001b[0mchoice\u001b[0m\u001b[0;34m(\u001b[0m\u001b[0mlist\u001b[0m\u001b[0;34m(\u001b[0m\u001b[0mdyn_database\u001b[0m\u001b[0;34m.\u001b[0m\u001b[0mkeys\u001b[0m\u001b[0;34m(\u001b[0m\u001b[0;34m)\u001b[0m\u001b[0;34m)\u001b[0m\u001b[0;34m,\u001b[0m\u001b[0mp\u001b[0m\u001b[0;34m=\u001b[0m\u001b[0mlist\u001b[0m\u001b[0;34m(\u001b[0m\u001b[0mdyn_database\u001b[0m\u001b[0;34m.\u001b[0m\u001b[0mvalues\u001b[0m\u001b[0;34m(\u001b[0m\u001b[0;34m)\u001b[0m\u001b[0;34m)\u001b[0m\u001b[0;34m)\u001b[0m\u001b[0;34m\u001b[0m\u001b[0;34m\u001b[0m\u001b[0m\n\u001b[1;32m     50\u001b[0m     \u001b[0mprint\u001b[0m\u001b[0;34m(\u001b[0m\u001b[0mselec\u001b[0m\u001b[0;34m.\u001b[0m\u001b[0mid\u001b[0m\u001b[0;34m)\u001b[0m\u001b[0;34m\u001b[0m\u001b[0;34m\u001b[0m\u001b[0m\n\u001b[0;32m---> 51\u001b[0;31m     \u001b[0meng\u001b[0m \u001b[0;34m=\u001b[0m \u001b[0minput\u001b[0m\u001b[0;34m(\u001b[0m\u001b[0;34m'Press Y to engage | Press N to ignore: '\u001b[0m\u001b[0;34m)\u001b[0m \u001b[0;34m==\u001b[0m \u001b[0;34m'Y'\u001b[0m\u001b[0;34m\u001b[0m\u001b[0;34m\u001b[0m\u001b[0m\n\u001b[0m\u001b[1;32m     52\u001b[0m     \u001b[0;32mif\u001b[0m \u001b[0meng\u001b[0m\u001b[0;34m:\u001b[0m\u001b[0;34m\u001b[0m\u001b[0;34m\u001b[0m\u001b[0m\n\u001b[1;32m     53\u001b[0m       \u001b[0mprofile\u001b[0m\u001b[0;34m.\u001b[0m\u001b[0mengagement\u001b[0m\u001b[0;34m(\u001b[0m\u001b[0mselec\u001b[0m\u001b[0;34m)\u001b[0m\u001b[0;34m\u001b[0m\u001b[0;34m\u001b[0m\u001b[0m\n",
            "\u001b[0;32m/usr/local/lib/python3.9/dist-packages/ipykernel/kernelbase.py\u001b[0m in \u001b[0;36mraw_input\u001b[0;34m(self, prompt)\u001b[0m\n\u001b[1;32m    849\u001b[0m                 \u001b[0;34m\"raw_input was called, but this frontend does not support input requests.\"\u001b[0m\u001b[0;34m\u001b[0m\u001b[0;34m\u001b[0m\u001b[0m\n\u001b[1;32m    850\u001b[0m             )\n\u001b[0;32m--> 851\u001b[0;31m         return self._input_request(str(prompt),\n\u001b[0m\u001b[1;32m    852\u001b[0m             \u001b[0mself\u001b[0m\u001b[0;34m.\u001b[0m\u001b[0m_parent_ident\u001b[0m\u001b[0;34m,\u001b[0m\u001b[0;34m\u001b[0m\u001b[0;34m\u001b[0m\u001b[0m\n\u001b[1;32m    853\u001b[0m             \u001b[0mself\u001b[0m\u001b[0;34m.\u001b[0m\u001b[0m_parent_header\u001b[0m\u001b[0;34m,\u001b[0m\u001b[0;34m\u001b[0m\u001b[0;34m\u001b[0m\u001b[0m\n",
            "\u001b[0;32m/usr/local/lib/python3.9/dist-packages/ipykernel/kernelbase.py\u001b[0m in \u001b[0;36m_input_request\u001b[0;34m(self, prompt, ident, parent, password)\u001b[0m\n\u001b[1;32m    893\u001b[0m             \u001b[0;32mexcept\u001b[0m \u001b[0mKeyboardInterrupt\u001b[0m\u001b[0;34m:\u001b[0m\u001b[0;34m\u001b[0m\u001b[0;34m\u001b[0m\u001b[0m\n\u001b[1;32m    894\u001b[0m                 \u001b[0;31m# re-raise KeyboardInterrupt, to truncate traceback\u001b[0m\u001b[0;34m\u001b[0m\u001b[0;34m\u001b[0m\u001b[0m\n\u001b[0;32m--> 895\u001b[0;31m                 \u001b[0;32mraise\u001b[0m \u001b[0mKeyboardInterrupt\u001b[0m\u001b[0;34m(\u001b[0m\u001b[0;34m\"Interrupted by user\"\u001b[0m\u001b[0;34m)\u001b[0m \u001b[0;32mfrom\u001b[0m \u001b[0;32mNone\u001b[0m\u001b[0;34m\u001b[0m\u001b[0;34m\u001b[0m\u001b[0m\n\u001b[0m\u001b[1;32m    896\u001b[0m             \u001b[0;32mexcept\u001b[0m \u001b[0mException\u001b[0m \u001b[0;32mas\u001b[0m \u001b[0me\u001b[0m\u001b[0;34m:\u001b[0m\u001b[0;34m\u001b[0m\u001b[0;34m\u001b[0m\u001b[0m\n\u001b[1;32m    897\u001b[0m                 \u001b[0mself\u001b[0m\u001b[0;34m.\u001b[0m\u001b[0mlog\u001b[0m\u001b[0;34m.\u001b[0m\u001b[0mwarning\u001b[0m\u001b[0;34m(\u001b[0m\u001b[0;34m\"Invalid Message:\"\u001b[0m\u001b[0;34m,\u001b[0m \u001b[0mexc_info\u001b[0m\u001b[0;34m=\u001b[0m\u001b[0;32mTrue\u001b[0m\u001b[0;34m)\u001b[0m\u001b[0;34m\u001b[0m\u001b[0;34m\u001b[0m\u001b[0m\n",
            "\u001b[0;31mKeyboardInterrupt\u001b[0m: Interrupted by user"
          ]
        }
      ]
    }
  ]
}